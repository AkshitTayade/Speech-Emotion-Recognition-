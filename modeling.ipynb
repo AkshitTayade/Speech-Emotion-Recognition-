{
 "cells": [
  {
   "cell_type": "code",
   "execution_count": 63,
   "metadata": {},
   "outputs": [],
   "source": [
    "import numpy as np\n",
    "import pandas as pd"
   ]
  },
  {
   "cell_type": "code",
   "execution_count": 64,
   "metadata": {},
   "outputs": [
    {
     "data": {
      "text/html": [
       "<div>\n",
       "<style scoped>\n",
       "    .dataframe tbody tr th:only-of-type {\n",
       "        vertical-align: middle;\n",
       "    }\n",
       "\n",
       "    .dataframe tbody tr th {\n",
       "        vertical-align: top;\n",
       "    }\n",
       "\n",
       "    .dataframe thead th {\n",
       "        text-align: right;\n",
       "    }\n",
       "</style>\n",
       "<table border=\"1\" class=\"dataframe\">\n",
       "  <thead>\n",
       "    <tr style=\"text-align: right;\">\n",
       "      <th></th>\n",
       "      <th>chrome_stft</th>\n",
       "      <th>spectral_centroid</th>\n",
       "      <th>spectral_bandwidth</th>\n",
       "      <th>spectral_rolloff</th>\n",
       "      <th>rms</th>\n",
       "      <th>zero_crossing_rate</th>\n",
       "      <th>Emotion</th>\n",
       "    </tr>\n",
       "  </thead>\n",
       "  <tbody>\n",
       "    <tr>\n",
       "      <th>0</th>\n",
       "      <td>0.633091</td>\n",
       "      <td>7416.297747</td>\n",
       "      <td>5551.291827</td>\n",
       "      <td>13285.735887</td>\n",
       "      <td>0.002120</td>\n",
       "      <td>0.050476</td>\n",
       "      <td>1</td>\n",
       "    </tr>\n",
       "    <tr>\n",
       "      <th>1</th>\n",
       "      <td>0.629568</td>\n",
       "      <td>7135.571471</td>\n",
       "      <td>5653.771579</td>\n",
       "      <td>13191.643371</td>\n",
       "      <td>0.002258</td>\n",
       "      <td>0.052904</td>\n",
       "      <td>1</td>\n",
       "    </tr>\n",
       "    <tr>\n",
       "      <th>2</th>\n",
       "      <td>0.619984</td>\n",
       "      <td>7239.265648</td>\n",
       "      <td>5641.048019</td>\n",
       "      <td>13279.137826</td>\n",
       "      <td>0.002707</td>\n",
       "      <td>0.046627</td>\n",
       "      <td>1</td>\n",
       "    </tr>\n",
       "    <tr>\n",
       "      <th>3</th>\n",
       "      <td>0.612607</td>\n",
       "      <td>7008.958169</td>\n",
       "      <td>5802.315323</td>\n",
       "      <td>13272.074245</td>\n",
       "      <td>0.002521</td>\n",
       "      <td>0.053835</td>\n",
       "      <td>1</td>\n",
       "    </tr>\n",
       "    <tr>\n",
       "      <th>4</th>\n",
       "      <td>0.608243</td>\n",
       "      <td>6997.311810</td>\n",
       "      <td>5518.637359</td>\n",
       "      <td>12649.543486</td>\n",
       "      <td>0.001579</td>\n",
       "      <td>0.045929</td>\n",
       "      <td>2</td>\n",
       "    </tr>\n",
       "  </tbody>\n",
       "</table>\n",
       "</div>"
      ],
      "text/plain": [
       "   chrome_stft  spectral_centroid  spectral_bandwidth  spectral_rolloff  \\\n",
       "0     0.633091        7416.297747         5551.291827      13285.735887   \n",
       "1     0.629568        7135.571471         5653.771579      13191.643371   \n",
       "2     0.619984        7239.265648         5641.048019      13279.137826   \n",
       "3     0.612607        7008.958169         5802.315323      13272.074245   \n",
       "4     0.608243        6997.311810         5518.637359      12649.543486   \n",
       "\n",
       "        rms  zero_crossing_rate  Emotion  \n",
       "0  0.002120            0.050476        1  \n",
       "1  0.002258            0.052904        1  \n",
       "2  0.002707            0.046627        1  \n",
       "3  0.002521            0.053835        1  \n",
       "4  0.001579            0.045929        2  "
      ]
     },
     "execution_count": 64,
     "metadata": {},
     "output_type": "execute_result"
    }
   ],
   "source": [
    "data = pd.read_csv(\"all_emotions.csv\")\n",
    "data.drop(\"Unnamed: 0\", axis = 1, inplace = True)\n",
    "data.head()"
   ]
  },
  {
   "cell_type": "code",
   "execution_count": 65,
   "metadata": {},
   "outputs": [
    {
     "data": {
      "text/plain": [
       "8    192\n",
       "7    192\n",
       "6    192\n",
       "5    192\n",
       "4    192\n",
       "3    192\n",
       "2    192\n",
       "1     96\n",
       "Name: Emotion, dtype: int64"
      ]
     },
     "execution_count": 65,
     "metadata": {},
     "output_type": "execute_result"
    }
   ],
   "source": [
    "data['Emotion'].value_counts()"
   ]
  },
  {
   "cell_type": "code",
   "execution_count": 66,
   "metadata": {},
   "outputs": [],
   "source": [
    "data['Emotion'].replace([1,2,3,4,5,6,7,8],[0,0,0,1,1,1,1,1],inplace=True)"
   ]
  },
  {
   "cell_type": "code",
   "execution_count": 68,
   "metadata": {},
   "outputs": [
    {
     "name": "stdout",
     "output_type": "stream",
     "text": [
      "1    960\n",
      "0    480\n",
      "Name: Emotion, dtype: int64\n"
     ]
    },
    {
     "data": {
      "text/plain": [
       "chrome_stft           0\n",
       "spectral_centroid     0\n",
       "spectral_bandwidth    0\n",
       "spectral_rolloff      0\n",
       "rms                   0\n",
       "zero_crossing_rate    0\n",
       "Emotion               0\n",
       "dtype: int64"
      ]
     },
     "execution_count": 68,
     "metadata": {},
     "output_type": "execute_result"
    }
   ],
   "source": [
    "print(data['Emotion'].value_counts())\n",
    "data.isnull().sum()\n",
    "\n",
    "## No null values"
   ]
  },
  {
   "cell_type": "code",
   "execution_count": 69,
   "metadata": {},
   "outputs": [],
   "source": [
    "y = data['Emotion']\n",
    "X  = data.drop('Emotion', axis = 1)"
   ]
  },
  {
   "cell_type": "code",
   "execution_count": 70,
   "metadata": {},
   "outputs": [
    {
     "data": {
      "text/html": [
       "<div>\n",
       "<style scoped>\n",
       "    .dataframe tbody tr th:only-of-type {\n",
       "        vertical-align: middle;\n",
       "    }\n",
       "\n",
       "    .dataframe tbody tr th {\n",
       "        vertical-align: top;\n",
       "    }\n",
       "\n",
       "    .dataframe thead th {\n",
       "        text-align: right;\n",
       "    }\n",
       "</style>\n",
       "<table border=\"1\" class=\"dataframe\">\n",
       "  <thead>\n",
       "    <tr style=\"text-align: right;\">\n",
       "      <th></th>\n",
       "      <th>chrome_stft</th>\n",
       "      <th>spectral_centroid</th>\n",
       "      <th>spectral_bandwidth</th>\n",
       "      <th>spectral_rolloff</th>\n",
       "      <th>rms</th>\n",
       "      <th>zero_crossing_rate</th>\n",
       "    </tr>\n",
       "  </thead>\n",
       "  <tbody>\n",
       "    <tr>\n",
       "      <th>count</th>\n",
       "      <td>1440.000000</td>\n",
       "      <td>1440.000000</td>\n",
       "      <td>1440.000000</td>\n",
       "      <td>1440.000000</td>\n",
       "      <td>1440.000000</td>\n",
       "      <td>1440.000000</td>\n",
       "    </tr>\n",
       "    <tr>\n",
       "      <th>mean</th>\n",
       "      <td>0.510108</td>\n",
       "      <td>5560.179301</td>\n",
       "      <td>5054.056185</td>\n",
       "      <td>10841.661162</td>\n",
       "      <td>0.010056</td>\n",
       "      <td>0.069216</td>\n",
       "    </tr>\n",
       "    <tr>\n",
       "      <th>std</th>\n",
       "      <td>0.078721</td>\n",
       "      <td>810.351458</td>\n",
       "      <td>568.687643</td>\n",
       "      <td>1503.046336</td>\n",
       "      <td>0.012293</td>\n",
       "      <td>0.018194</td>\n",
       "    </tr>\n",
       "    <tr>\n",
       "      <th>min</th>\n",
       "      <td>0.313661</td>\n",
       "      <td>2604.357649</td>\n",
       "      <td>2753.383435</td>\n",
       "      <td>4997.524752</td>\n",
       "      <td>0.000328</td>\n",
       "      <td>0.027717</td>\n",
       "    </tr>\n",
       "    <tr>\n",
       "      <th>0.5%</th>\n",
       "      <td>0.338630</td>\n",
       "      <td>3466.714169</td>\n",
       "      <td>3580.707174</td>\n",
       "      <td>7067.841797</td>\n",
       "      <td>0.000492</td>\n",
       "      <td>0.033191</td>\n",
       "    </tr>\n",
       "    <tr>\n",
       "      <th>10%</th>\n",
       "      <td>0.401849</td>\n",
       "      <td>4496.379009</td>\n",
       "      <td>4211.973748</td>\n",
       "      <td>8804.885017</td>\n",
       "      <td>0.001661</td>\n",
       "      <td>0.048774</td>\n",
       "    </tr>\n",
       "    <tr>\n",
       "      <th>50%</th>\n",
       "      <td>0.512213</td>\n",
       "      <td>5575.320637</td>\n",
       "      <td>5144.059858</td>\n",
       "      <td>11033.019570</td>\n",
       "      <td>0.005693</td>\n",
       "      <td>0.066405</td>\n",
       "    </tr>\n",
       "    <tr>\n",
       "      <th>95%</th>\n",
       "      <td>0.635059</td>\n",
       "      <td>6872.654142</td>\n",
       "      <td>5866.470645</td>\n",
       "      <td>13094.623910</td>\n",
       "      <td>0.036313</td>\n",
       "      <td>0.102751</td>\n",
       "    </tr>\n",
       "    <tr>\n",
       "      <th>99.5%</th>\n",
       "      <td>0.674390</td>\n",
       "      <td>7300.808950</td>\n",
       "      <td>6150.363477</td>\n",
       "      <td>13732.870027</td>\n",
       "      <td>0.064645</td>\n",
       "      <td>0.129581</td>\n",
       "    </tr>\n",
       "    <tr>\n",
       "      <th>max</th>\n",
       "      <td>0.724077</td>\n",
       "      <td>7655.335726</td>\n",
       "      <td>6368.165163</td>\n",
       "      <td>14629.598497</td>\n",
       "      <td>0.088503</td>\n",
       "      <td>0.168519</td>\n",
       "    </tr>\n",
       "  </tbody>\n",
       "</table>\n",
       "</div>"
      ],
      "text/plain": [
       "       chrome_stft  spectral_centroid  spectral_bandwidth  spectral_rolloff  \\\n",
       "count  1440.000000        1440.000000         1440.000000       1440.000000   \n",
       "mean      0.510108        5560.179301         5054.056185      10841.661162   \n",
       "std       0.078721         810.351458          568.687643       1503.046336   \n",
       "min       0.313661        2604.357649         2753.383435       4997.524752   \n",
       "0.5%      0.338630        3466.714169         3580.707174       7067.841797   \n",
       "10%       0.401849        4496.379009         4211.973748       8804.885017   \n",
       "50%       0.512213        5575.320637         5144.059858      11033.019570   \n",
       "95%       0.635059        6872.654142         5866.470645      13094.623910   \n",
       "99.5%     0.674390        7300.808950         6150.363477      13732.870027   \n",
       "max       0.724077        7655.335726         6368.165163      14629.598497   \n",
       "\n",
       "               rms  zero_crossing_rate  \n",
       "count  1440.000000         1440.000000  \n",
       "mean      0.010056            0.069216  \n",
       "std       0.012293            0.018194  \n",
       "min       0.000328            0.027717  \n",
       "0.5%      0.000492            0.033191  \n",
       "10%       0.001661            0.048774  \n",
       "50%       0.005693            0.066405  \n",
       "95%       0.036313            0.102751  \n",
       "99.5%     0.064645            0.129581  \n",
       "max       0.088503            0.168519  "
      ]
     },
     "execution_count": 70,
     "metadata": {},
     "output_type": "execute_result"
    }
   ],
   "source": [
    "stats = X.describe(percentiles=[0.005,0.1,0.5,0.95,0.995])\n",
    "stats"
   ]
  },
  {
   "cell_type": "code",
   "execution_count": 71,
   "metadata": {},
   "outputs": [
    {
     "name": "stderr",
     "output_type": "stream",
     "text": [
      "c:\\Users\\Shankii\\anaconda3\\envs\\gputest\\lib\\site-packages\\ipykernel_launcher.py:12: DeprecationWarning: The default dtype for empty Series will be 'object' instead of 'float64' in a future version. Specify a dtype explicitly to silence this warning.\n",
      "  if sys.path[0] == '':\n",
      "c:\\Users\\Shankii\\anaconda3\\envs\\gputest\\lib\\site-packages\\ipykernel_launcher.py:13: DeprecationWarning: The default dtype for empty Series will be 'object' instead of 'float64' in a future version. Specify a dtype explicitly to silence this warning.\n",
      "  del sys.path[0]\n"
     ]
    },
    {
     "data": {
      "text/plain": [
       "(0, 0, 0)"
      ]
     },
     "execution_count": 71,
     "metadata": {},
     "output_type": "execute_result"
    }
   ],
   "source": [
    "right_outliers_name = []\n",
    "right_outliers_value = []\n",
    "\n",
    "final_outliers = pd.DataFrame()\n",
    "\n",
    "for i in stats.columns:\n",
    "            if (stats[i]['max'] / stats[i]['99.5%']) > 1.5:\n",
    "                right_outliers_name.append(i)\n",
    "                right_outliers_value.append(outliers[i]['99.5%'])\n",
    "\n",
    "\n",
    "final_outliers['right_outliers'] = pd.Series(right_outliers_name)\n",
    "final_outliers['right_outliers_value'] = pd.Series(right_outliers_value)\n",
    "\n",
    "len(right_outliers_name), len(final_outliers['right_outliers']), len(final_outliers['right_outliers_value'])"
   ]
  },
  {
   "cell_type": "code",
   "execution_count": 72,
   "metadata": {},
   "outputs": [
    {
     "name": "stderr",
     "output_type": "stream",
     "text": [
      "c:\\Users\\Shankii\\anaconda3\\envs\\gputest\\lib\\site-packages\\ipykernel_launcher.py:9: DeprecationWarning: The default dtype for empty Series will be 'object' instead of 'float64' in a future version. Specify a dtype explicitly to silence this warning.\n",
      "  if __name__ == '__main__':\n",
      "c:\\Users\\Shankii\\anaconda3\\envs\\gputest\\lib\\site-packages\\ipykernel_launcher.py:10: DeprecationWarning: The default dtype for empty Series will be 'object' instead of 'float64' in a future version. Specify a dtype explicitly to silence this warning.\n",
      "  # Remove the CWD from sys.path while we load stuff.\n"
     ]
    },
    {
     "data": {
      "text/plain": [
       "(0, 0, 0)"
      ]
     },
     "execution_count": 72,
     "metadata": {},
     "output_type": "execute_result"
    }
   ],
   "source": [
    "left_outliers_name = []\n",
    "left_outliers_value = []\n",
    "\n",
    "for i in stats.columns:\n",
    "    if (stats[i]['min'] / stats[i]['0.5%']) > 1.5:\n",
    "        left_outliers_name.append(i)\n",
    "        left_outliers_value.append(outliers[i]['0.5%'])\n",
    "\n",
    "final_outliers['left_outliers'] = pd.Series(left_outliers_name)\n",
    "final_outliers['left_outliers_value'] = pd.Series(left_outliers_value) \n",
    "\n",
    "len(left_outliers_name), len(final_outliers['left_outliers']), len(final_outliers['left_outliers_value'])\n",
    "## Null values have also been counted while counting the length"
   ]
  },
  {
   "cell_type": "code",
   "execution_count": 130,
   "metadata": {},
   "outputs": [
    {
     "data": {
      "image/png": "[encoded data removed]",
      "text/plain": [
       "<Figure size 432x288 with 1 Axes>"
      ]
     },
     "metadata": {
      "needs_background": "light"
     },
     "output_type": "display_data"
    },
    {
     "data": {
      "image/png": "[encoded data removed]",
      "text/plain": [
       "<Figure size 432x288 with 1 Axes>"
      ]
     },
     "metadata": {
      "needs_background": "light"
     },
     "output_type": "display_data"
    },
    {
     "data": {
      "image/png": "[encoded data removed]",
      "text/plain": [
       "<Figure size 432x288 with 1 Axes>"
      ]
     },
     "metadata": {
      "needs_background": "light"
     },
     "output_type": "display_data"
    },
    {
     "data": {
      "image/png": "[encoded data removed]",
      "text/plain": [
       "<Figure size 432x288 with 1 Axes>"
      ]
     },
     "metadata": {
      "needs_background": "light"
     },
     "output_type": "display_data"
    },
    {
     "data": {
      "image/png": "[encoded data removed]",
      "text/plain": [
       "<Figure size 432x288 with 1 Axes>"
      ]
     },
     "metadata": {
      "needs_background": "light"
     },
     "output_type": "display_data"
    },
    {
     "data": {
      "image/png": "[encoded data removed]",
      "text/plain": [
       "<Figure size 432x288 with 1 Axes>"
      ]
     },
     "metadata": {
      "needs_background": "light"
     },
     "output_type": "display_data"
    },
    {
     "data": {
      "image/png": "[encoded data removed]",
      "text/plain": [
       "<Figure size 432x288 with 1 Axes>"
      ]
     },
     "metadata": {
      "needs_background": "light"
     },
     "output_type": "display_data"
    }
   ],
   "source": [
    "import matplotlib.pyplot as plt\n",
    "for i in data.columns:\n",
    "    plt.hist(data[i])\n",
    "    plt.title(i)\n",
    "    plt.show()"
   ]
  },
  {
   "cell_type": "code",
   "execution_count": 73,
   "metadata": {},
   "outputs": [],
   "source": [
    "## so there are no right and left outliers"
   ]
  },
  {
   "cell_type": "code",
   "execution_count": 74,
   "metadata": {},
   "outputs": [],
   "source": [
    "## Transformation"
   ]
  },
  {
   "cell_type": "code",
   "execution_count": 75,
   "metadata": {},
   "outputs": [],
   "source": [
    "from sklearn.model_selection import train_test_split\n",
    "\n",
    "\n",
    "# Step 1: Split the data into training and temporary (validation + test) sets\n",
    "X_train_temp, X_test, y_train_temp, y_test = train_test_split(X, y, test_size=0.3, random_state=42)\n",
    "\n",
    "# Step 2: Split the temporary set into validation and test sets\n",
    "X_train, X_val, y_train, y_val = train_test_split(X_train_temp, y_train_temp, test_size=0.5, random_state=42)\n"
   ]
  },
  {
   "cell_type": "code",
   "execution_count": 97,
   "metadata": {},
   "outputs": [
    {
     "name": "stderr",
     "output_type": "stream",
     "text": [
      "c:\\Users\\Shankii\\anaconda3\\envs\\gputest\\lib\\site-packages\\xgboost\\sklearn.py:1224: UserWarning: The use of label encoder in XGBClassifier is deprecated and will be removed in a future release. To remove this warning, do the following: 1) Pass option use_label_encoder=False when constructing XGBClassifier object; and 2) Encode your labels (y) as integers starting with 0, i.e. 0, 1, 2, ..., [num_class - 1].\n",
      "  warnings.warn(label_encoder_deprecation_msg, UserWarning)\n"
     ]
    },
    {
     "name": "stdout",
     "output_type": "stream",
     "text": [
      "[21:30:39] WARNING: C:/Users/Administrator/workspace/xgboost-win64_release_1.5.1/src/learner.cc:1115: Starting in XGBoost 1.3.0, the default evaluation metric used with the objective 'binary:logistic' was changed from 'error' to 'logloss'. Explicitly set eval_metric if you'd like to restore the old behavior.\n"
     ]
    }
   ],
   "source": [
    "import xgboost\n",
    "xgb = xgboost.XGBClassifier()\n",
    "xgb.fit(X_train,y_train)\n",
    "\n",
    "y_pred = xgb.predict(X_val)"
   ]
  },
  {
   "cell_type": "code",
   "execution_count": 99,
   "metadata": {},
   "outputs": [
    {
     "name": "stdout",
     "output_type": "stream",
     "text": [
      "Accuracy: 0.6706349206349206\n",
      "Balanced Accuracy: 0.5907738095238095\n",
      "Precision (Micro-averaged): 0.6706349206349206\n",
      "Recall (Micro-averaged): 0.6706349206349206\n",
      "F1 Score (Micro-averaged): 0.6706349206349206\n"
     ]
    }
   ],
   "source": [
    "from sklearn.metrics import accuracy_score, balanced_accuracy_score, precision_score, recall_score, f1_score, log_loss, brier_score_loss\n",
    "\n",
    "# Replace 'true_labels' and 'predicted_labels' with your actual data\n",
    "true_labels = y_val.values\n",
    "predicted_labels = y_pred\n",
    "\n",
    "# Calculate the metrics\n",
    "accuracy_logit_train = accuracy_score(true_labels, predicted_labels)\n",
    "balanced_accuracy_logit_train = balanced_accuracy_score(true_labels, predicted_labels)\n",
    "precision_logit_train = precision_score(true_labels, predicted_labels, average='micro')  # Micro-averaged precision\n",
    "recall_logit_train = recall_score(true_labels, predicted_labels, average='micro')  # Micro-averaged recall\n",
    "f1_logit_train = f1_score(true_labels, predicted_labels, average='micro')  # Micro-averaged F1 score\n",
    "\n",
    "# Print the metrics\n",
    "print(f\"Accuracy: {accuracy_logit_train}\")\n",
    "print(f\"Balanced Accuracy: {balanced_accuracy_logit_train}\")\n",
    "print(f\"Precision (Micro-averaged): {precision_logit_train}\")\n",
    "print(f\"Recall (Micro-averaged): {recall_logit_train}\")\n",
    "print(f\"F1 Score (Micro-averaged): {f1_logit_train}\")"
   ]
  },
  {
   "cell_type": "code",
   "execution_count": 103,
   "metadata": {},
   "outputs": [],
   "source": [
    "## fine Tuning\n",
    "\n",
    "from sklearn.model_selection import RandomizedSearchCV\n",
    "def random_search_xgboost(model, X_train, y_train):\n",
    "    param_dist = {\n",
    "    'n_estimators': [i for i in range(100,700,50)],\n",
    "    'learning_rate': [0.001, 0.01, 0.1, 0.2, 0.3],\n",
    "    'max_depth': [i for i in range(2,7,1)]    }\n",
    "\n",
    "# Create a randomized search object\n",
    "    xgb_model = RandomizedSearchCV(\n",
    "        estimator=model,\n",
    "        param_distributions=param_dist,\n",
    "        n_iter=50,  \n",
    "        scoring='accuracy',\n",
    "        cv=3,  \n",
    "        verbose=2    )\n",
    "    \n",
    "    # Fit the random search model\n",
    "    xgb_model.fit(X_train, y_train, verbose = False)\n",
    "\n",
    "    \n",
    "    print(\"Best Parameters: \")\n",
    "    print(xgb_model.best_params_)\n",
    "    \n",
    "    return xgb_model"
   ]
  },
  {
   "cell_type": "code",
   "execution_count": 104,
   "metadata": {},
   "outputs": [
    {
     "name": "stdout",
     "output_type": "stream",
     "text": [
      "Fitting 3 folds for each of 50 candidates, totalling 150 fits\n",
      "[CV] n_estimators=250, max_depth=6, learning_rate=0.1 ................\n",
      "[21:31:44] WARNING: C:/Users/Administrator/workspace/xgboost-win64_release_1.5.1/src/learner.cc:1115: Starting in XGBoost 1.3.0, the default evaluation metric used with the objective 'binary:logistic' was changed from 'error' to 'logloss'. Explicitly set eval_metric if you'd like to restore the old behavior.\n"
     ]
    },
    {
     "name": "stderr",
     "output_type": "stream",
     "text": [
      "[Parallel(n_jobs=1)]: Using backend SequentialBackend with 1 concurrent workers.\n",
      "c:\\Users\\Shankii\\anaconda3\\envs\\gputest\\lib\\site-packages\\xgboost\\sklearn.py:1224: UserWarning: The use of label encoder in XGBClassifier is deprecated and will be removed in a future release. To remove this warning, do the following: 1) Pass option use_label_encoder=False when constructing XGBClassifier object; and 2) Encode your labels (y) as integers starting with 0, i.e. 0, 1, 2, ..., [num_class - 1].\n",
      "  warnings.warn(label_encoder_deprecation_msg, UserWarning)\n"
     ]
    },
    {
     "name": "stdout",
     "output_type": "stream",
     "text": [
      "[CV] . n_estimators=250, max_depth=6, learning_rate=0.1, total=   0.5s\n",
      "[CV] n_estimators=250, max_depth=6, learning_rate=0.1 ................\n",
      "[21:31:45] WARNING: C:/Users/Administrator/workspace/xgboost-win64_release_1.5.1/src/learner.cc:1115: Starting in XGBoost 1.3.0, the default evaluation metric used with the objective 'binary:logistic' was changed from 'error' to 'logloss'. Explicitly set eval_metric if you'd like to restore the old behavior.\n"
     ]
    },
    {
     "name": "stderr",
     "output_type": "stream",
     "text": [
      "[Parallel(n_jobs=1)]: Done   1 out of   1 | elapsed:    0.4s remaining:    0.0s\n"
     ]
    },
    {
     "name": "stdout",
     "output_type": "stream",
     "text": [
      "[CV] . n_estimators=250, max_depth=6, learning_rate=0.1, total=   0.4s\n",
      "[CV] n_estimators=250, max_depth=6, learning_rate=0.1 ................\n",
      "[21:31:45] WARNING: C:/Users/Administrator/workspace/xgboost-win64_release_1.5.1/src/learner.cc:1115: Starting in XGBoost 1.3.0, the default evaluation metric used with the objective 'binary:logistic' was changed from 'error' to 'logloss'. Explicitly set eval_metric if you'd like to restore the old behavior.\n",
      "[CV] . n_estimators=250, max_depth=6, learning_rate=0.1, total=   0.4s\n",
      "[CV] n_estimators=200, max_depth=6, learning_rate=0.01 ...............\n",
      "[21:31:46] WARNING: C:/Users/Administrator/workspace/xgboost-win64_release_1.5.1/src/learner.cc:1115: Starting in XGBoost 1.3.0, the default evaluation metric used with the objective 'binary:logistic' was changed from 'error' to 'logloss'. Explicitly set eval_metric if you'd like to restore the old behavior.\n",
      "[CV]  n_estimators=200, max_depth=6, learning_rate=0.01, total=   0.7s\n",
      "[CV] n_estimators=200, max_depth=6, learning_rate=0.01 ...............\n",
      "[21:31:46] WARNING: C:/Users/Administrator/workspace/xgboost-win64_release_1.5.1/src/learner.cc:1115: Starting in XGBoost 1.3.0, the default evaluation metric used with the objective 'binary:logistic' was changed from 'error' to 'logloss'. Explicitly set eval_metric if you'd like to restore the old behavior.\n",
      "[CV]  n_estimators=200, max_depth=6, learning_rate=0.01, total=   0.4s\n",
      "[CV] n_estimators=200, max_depth=6, learning_rate=0.01 ...............\n",
      "[21:31:47] WARNING: C:/Users/Administrator/workspace/xgboost-win64_release_1.5.1/src/learner.cc:1115: Starting in XGBoost 1.3.0, the default evaluation metric used with the objective 'binary:logistic' was changed from 'error' to 'logloss'. Explicitly set eval_metric if you'd like to restore the old behavior.\n",
      "[CV]  n_estimators=200, max_depth=6, learning_rate=0.01, total=   0.4s\n",
      "[CV] n_estimators=200, max_depth=6, learning_rate=0.001 ..............\n",
      "[21:31:47] WARNING: C:/Users/Administrator/workspace/xgboost-win64_release_1.5.1/src/learner.cc:1115: Starting in XGBoost 1.3.0, the default evaluation metric used with the objective 'binary:logistic' was changed from 'error' to 'logloss'. Explicitly set eval_metric if you'd like to restore the old behavior.\n",
      "[CV]  n_estimators=200, max_depth=6, learning_rate=0.001, total=   0.4s\n",
      "[CV] n_estimators=200, max_depth=6, learning_rate=0.001 ..............\n",
      "[21:31:48] WARNING: C:/Users/Administrator/workspace/xgboost-win64_release_1.5.1/src/learner.cc:1115: Starting in XGBoost 1.3.0, the default evaluation metric used with the objective 'binary:logistic' was changed from 'error' to 'logloss'. Explicitly set eval_metric if you'd like to restore the old behavior.\n",
      "[CV]  n_estimators=200, max_depth=6, learning_rate=0.001, total=   0.3s\n",
      "[CV] n_estimators=200, max_depth=6, learning_rate=0.001 ..............\n",
      "[21:31:48] WARNING: C:/Users/Administrator/workspace/xgboost-win64_release_1.5.1/src/learner.cc:1115: Starting in XGBoost 1.3.0, the default evaluation metric used with the objective 'binary:logistic' was changed from 'error' to 'logloss'. Explicitly set eval_metric if you'd like to restore the old behavior.\n",
      "[CV]  n_estimators=200, max_depth=6, learning_rate=0.001, total=   0.4s\n",
      "[CV] n_estimators=100, max_depth=2, learning_rate=0.1 ................\n",
      "[21:31:48] WARNING: C:/Users/Administrator/workspace/xgboost-win64_release_1.5.1/src/learner.cc:1115: Starting in XGBoost 1.3.0, the default evaluation metric used with the objective 'binary:logistic' was changed from 'error' to 'logloss'. Explicitly set eval_metric if you'd like to restore the old behavior.\n",
      "[CV] . n_estimators=100, max_depth=2, learning_rate=0.1, total=   0.1s\n",
      "[CV] n_estimators=100, max_depth=2, learning_rate=0.1 ................\n",
      "[21:31:48] WARNING: C:/Users/Administrator/workspace/xgboost-win64_release_1.5.1/src/learner.cc:1115: Starting in XGBoost 1.3.0, the default evaluation metric used with the objective 'binary:logistic' was changed from 'error' to 'logloss'. Explicitly set eval_metric if you'd like to restore the old behavior.\n",
      "[CV] . n_estimators=100, max_depth=2, learning_rate=0.1, total=   0.1s\n",
      "[CV] n_estimators=100, max_depth=2, learning_rate=0.1 ................\n",
      "[21:31:49] WARNING: C:/Users/Administrator/workspace/xgboost-win64_release_1.5.1/src/learner.cc:1115: Starting in XGBoost 1.3.0, the default evaluation metric used with the objective 'binary:logistic' was changed from 'error' to 'logloss'. Explicitly set eval_metric if you'd like to restore the old behavior.\n",
      "[CV] . n_estimators=100, max_depth=2, learning_rate=0.1, total=   0.1s\n",
      "[CV] n_estimators=150, max_depth=5, learning_rate=0.1 ................\n",
      "[21:31:49] WARNING: C:/Users/Administrator/workspace/xgboost-win64_release_1.5.1/src/learner.cc:1115: Starting in XGBoost 1.3.0, the default evaluation metric used with the objective 'binary:logistic' was changed from 'error' to 'logloss'. Explicitly set eval_metric if you'd like to restore the old behavior.\n",
      "[CV] . n_estimators=150, max_depth=5, learning_rate=0.1, total=   0.2s\n",
      "[CV] n_estimators=150, max_depth=5, learning_rate=0.1 ................\n",
      "[21:31:49] WARNING: C:/Users/Administrator/workspace/xgboost-win64_release_1.5.1/src/learner.cc:1115: Starting in XGBoost 1.3.0, the default evaluation metric used with the objective 'binary:logistic' was changed from 'error' to 'logloss'. Explicitly set eval_metric if you'd like to restore the old behavior.\n",
      "[CV] . n_estimators=150, max_depth=5, learning_rate=0.1, total=   0.2s\n",
      "[CV] n_estimators=150, max_depth=5, learning_rate=0.1 ................\n",
      "[21:31:49] WARNING: C:/Users/Administrator/workspace/xgboost-win64_release_1.5.1/src/learner.cc:1115: Starting in XGBoost 1.3.0, the default evaluation metric used with the objective 'binary:logistic' was changed from 'error' to 'logloss'. Explicitly set eval_metric if you'd like to restore the old behavior.\n",
      "[CV] . n_estimators=150, max_depth=5, learning_rate=0.1, total=   0.2s\n",
      "[CV] n_estimators=450, max_depth=2, learning_rate=0.2 ................\n",
      "[21:31:49] WARNING: C:/Users/Administrator/workspace/xgboost-win64_release_1.5.1/src/learner.cc:1115: Starting in XGBoost 1.3.0, the default evaluation metric used with the objective 'binary:logistic' was changed from 'error' to 'logloss'. Explicitly set eval_metric if you'd like to restore the old behavior.\n",
      "[CV] . n_estimators=450, max_depth=2, learning_rate=0.2, total=   0.4s\n",
      "[CV] n_estimators=450, max_depth=2, learning_rate=0.2 ................\n",
      "[21:31:50] WARNING: C:/Users/Administrator/workspace/xgboost-win64_release_1.5.1/src/learner.cc:1115: Starting in XGBoost 1.3.0, the default evaluation metric used with the objective 'binary:logistic' was changed from 'error' to 'logloss'. Explicitly set eval_metric if you'd like to restore the old behavior.\n",
      "[CV] . n_estimators=450, max_depth=2, learning_rate=0.2, total=   0.4s\n",
      "[CV] n_estimators=450, max_depth=2, learning_rate=0.2 ................\n",
      "[21:31:50] WARNING: C:/Users/Administrator/workspace/xgboost-win64_release_1.5.1/src/learner.cc:1115: Starting in XGBoost 1.3.0, the default evaluation metric used with the objective 'binary:logistic' was changed from 'error' to 'logloss'. Explicitly set eval_metric if you'd like to restore the old behavior.\n",
      "[CV] . n_estimators=450, max_depth=2, learning_rate=0.2, total=   0.4s\n",
      "[CV] n_estimators=500, max_depth=4, learning_rate=0.001 ..............\n",
      "[21:31:51] WARNING: C:/Users/Administrator/workspace/xgboost-win64_release_1.5.1/src/learner.cc:1115: Starting in XGBoost 1.3.0, the default evaluation metric used with the objective 'binary:logistic' was changed from 'error' to 'logloss'. Explicitly set eval_metric if you'd like to restore the old behavior.\n",
      "[CV]  n_estimators=500, max_depth=4, learning_rate=0.001, total=   0.5s\n",
      "[CV] n_estimators=500, max_depth=4, learning_rate=0.001 ..............\n",
      "[21:31:51] WARNING: C:/Users/Administrator/workspace/xgboost-win64_release_1.5.1/src/learner.cc:1115: Starting in XGBoost 1.3.0, the default evaluation metric used with the objective 'binary:logistic' was changed from 'error' to 'logloss'. Explicitly set eval_metric if you'd like to restore the old behavior.\n",
      "[CV]  n_estimators=500, max_depth=4, learning_rate=0.001, total=   0.5s\n",
      "[CV] n_estimators=500, max_depth=4, learning_rate=0.001 ..............\n",
      "[21:31:52] WARNING: C:/Users/Administrator/workspace/xgboost-win64_release_1.5.1/src/learner.cc:1115: Starting in XGBoost 1.3.0, the default evaluation metric used with the objective 'binary:logistic' was changed from 'error' to 'logloss'. Explicitly set eval_metric if you'd like to restore the old behavior.\n",
      "[CV]  n_estimators=500, max_depth=4, learning_rate=0.001, total=   0.6s\n",
      "[CV] n_estimators=250, max_depth=2, learning_rate=0.3 ................\n",
      "[21:31:52] WARNING: C:/Users/Administrator/workspace/xgboost-win64_release_1.5.1/src/learner.cc:1115: Starting in XGBoost 1.3.0, the default evaluation metric used with the objective 'binary:logistic' was changed from 'error' to 'logloss'. Explicitly set eval_metric if you'd like to restore the old behavior.\n",
      "[CV] . n_estimators=250, max_depth=2, learning_rate=0.3, total=   0.3s\n",
      "[CV] n_estimators=250, max_depth=2, learning_rate=0.3 ................\n",
      "[21:31:52] WARNING: C:/Users/Administrator/workspace/xgboost-win64_release_1.5.1/src/learner.cc:1115: Starting in XGBoost 1.3.0, the default evaluation metric used with the objective 'binary:logistic' was changed from 'error' to 'logloss'. Explicitly set eval_metric if you'd like to restore the old behavior.\n",
      "[CV] . n_estimators=250, max_depth=2, learning_rate=0.3, total=   0.3s\n",
      "[CV] n_estimators=250, max_depth=2, learning_rate=0.3 ................\n",
      "[21:31:53] WARNING: C:/Users/Administrator/workspace/xgboost-win64_release_1.5.1/src/learner.cc:1115: Starting in XGBoost 1.3.0, the default evaluation metric used with the objective 'binary:logistic' was changed from 'error' to 'logloss'. Explicitly set eval_metric if you'd like to restore the old behavior.\n",
      "[CV] . n_estimators=250, max_depth=2, learning_rate=0.3, total=   0.2s\n",
      "[CV] n_estimators=600, max_depth=2, learning_rate=0.01 ...............\n",
      "[21:31:53] WARNING: C:/Users/Administrator/workspace/xgboost-win64_release_1.5.1/src/learner.cc:1115: Starting in XGBoost 1.3.0, the default evaluation metric used with the objective 'binary:logistic' was changed from 'error' to 'logloss'. Explicitly set eval_metric if you'd like to restore the old behavior.\n",
      "[CV]  n_estimators=600, max_depth=2, learning_rate=0.01, total=   0.5s\n",
      "[CV] n_estimators=600, max_depth=2, learning_rate=0.01 ...............\n",
      "[21:31:53] WARNING: C:/Users/Administrator/workspace/xgboost-win64_release_1.5.1/src/learner.cc:1115: Starting in XGBoost 1.3.0, the default evaluation metric used with the objective 'binary:logistic' was changed from 'error' to 'logloss'. Explicitly set eval_metric if you'd like to restore the old behavior.\n",
      "[CV]  n_estimators=600, max_depth=2, learning_rate=0.01, total=   0.4s\n",
      "[CV] n_estimators=600, max_depth=2, learning_rate=0.01 ...............\n",
      "[21:31:54] WARNING: C:/Users/Administrator/workspace/xgboost-win64_release_1.5.1/src/learner.cc:1115: Starting in XGBoost 1.3.0, the default evaluation metric used with the objective 'binary:logistic' was changed from 'error' to 'logloss'. Explicitly set eval_metric if you'd like to restore the old behavior.\n",
      "[CV]  n_estimators=600, max_depth=2, learning_rate=0.01, total=   0.4s\n",
      "[CV] n_estimators=250, max_depth=5, learning_rate=0.2 ................\n",
      "[21:31:54] WARNING: C:/Users/Administrator/workspace/xgboost-win64_release_1.5.1/src/learner.cc:1115: Starting in XGBoost 1.3.0, the default evaluation metric used with the objective 'binary:logistic' was changed from 'error' to 'logloss'. Explicitly set eval_metric if you'd like to restore the old behavior.\n",
      "[CV] . n_estimators=250, max_depth=5, learning_rate=0.2, total=   0.3s\n",
      "[CV] n_estimators=250, max_depth=5, learning_rate=0.2 ................\n",
      "[21:31:55] WARNING: C:/Users/Administrator/workspace/xgboost-win64_release_1.5.1/src/learner.cc:1115: Starting in XGBoost 1.3.0, the default evaluation metric used with the objective 'binary:logistic' was changed from 'error' to 'logloss'. Explicitly set eval_metric if you'd like to restore the old behavior.\n",
      "[CV] . n_estimators=250, max_depth=5, learning_rate=0.2, total=   0.3s\n",
      "[CV] n_estimators=250, max_depth=5, learning_rate=0.2 ................\n",
      "[21:31:55] WARNING: C:/Users/Administrator/workspace/xgboost-win64_release_1.5.1/src/learner.cc:1115: Starting in XGBoost 1.3.0, the default evaluation metric used with the objective 'binary:logistic' was changed from 'error' to 'logloss'. Explicitly set eval_metric if you'd like to restore the old behavior.\n",
      "[CV] . n_estimators=250, max_depth=5, learning_rate=0.2, total=   0.3s\n",
      "[CV] n_estimators=650, max_depth=5, learning_rate=0.001 ..............\n",
      "[21:31:55] WARNING: C:/Users/Administrator/workspace/xgboost-win64_release_1.5.1/src/learner.cc:1115: Starting in XGBoost 1.3.0, the default evaluation metric used with the objective 'binary:logistic' was changed from 'error' to 'logloss'. Explicitly set eval_metric if you'd like to restore the old behavior.\n",
      "[CV]  n_estimators=650, max_depth=5, learning_rate=0.001, total=   1.5s\n",
      "[CV] n_estimators=650, max_depth=5, learning_rate=0.001 ..............\n",
      "[21:31:57] WARNING: C:/Users/Administrator/workspace/xgboost-win64_release_1.5.1/src/learner.cc:1115: Starting in XGBoost 1.3.0, the default evaluation metric used with the objective 'binary:logistic' was changed from 'error' to 'logloss'. Explicitly set eval_metric if you'd like to restore the old behavior.\n",
      "[CV]  n_estimators=650, max_depth=5, learning_rate=0.001, total=   1.1s\n",
      "[CV] n_estimators=650, max_depth=5, learning_rate=0.001 ..............\n",
      "[21:31:58] WARNING: C:/Users/Administrator/workspace/xgboost-win64_release_1.5.1/src/learner.cc:1115: Starting in XGBoost 1.3.0, the default evaluation metric used with the objective 'binary:logistic' was changed from 'error' to 'logloss'. Explicitly set eval_metric if you'd like to restore the old behavior.\n",
      "[CV]  n_estimators=650, max_depth=5, learning_rate=0.001, total=   0.8s\n",
      "[CV] n_estimators=100, max_depth=4, learning_rate=0.01 ...............\n",
      "[21:31:59] WARNING: C:/Users/Administrator/workspace/xgboost-win64_release_1.5.1/src/learner.cc:1115: Starting in XGBoost 1.3.0, the default evaluation metric used with the objective 'binary:logistic' was changed from 'error' to 'logloss'. Explicitly set eval_metric if you'd like to restore the old behavior.\n",
      "[CV]  n_estimators=100, max_depth=4, learning_rate=0.01, total=   0.1s\n",
      "[CV] n_estimators=100, max_depth=4, learning_rate=0.01 ...............\n",
      "[21:31:59] WARNING: C:/Users/Administrator/workspace/xgboost-win64_release_1.5.1/src/learner.cc:1115: Starting in XGBoost 1.3.0, the default evaluation metric used with the objective 'binary:logistic' was changed from 'error' to 'logloss'. Explicitly set eval_metric if you'd like to restore the old behavior.\n",
      "[CV]  n_estimators=100, max_depth=4, learning_rate=0.01, total=   0.1s\n",
      "[CV] n_estimators=100, max_depth=4, learning_rate=0.01 ...............\n",
      "[21:31:59] WARNING: C:/Users/Administrator/workspace/xgboost-win64_release_1.5.1/src/learner.cc:1115: Starting in XGBoost 1.3.0, the default evaluation metric used with the objective 'binary:logistic' was changed from 'error' to 'logloss'. Explicitly set eval_metric if you'd like to restore the old behavior.\n",
      "[CV]  n_estimators=100, max_depth=4, learning_rate=0.01, total=   0.1s\n",
      "[CV] n_estimators=100, max_depth=2, learning_rate=0.2 ................\n",
      "[21:31:59] WARNING: C:/Users/Administrator/workspace/xgboost-win64_release_1.5.1/src/learner.cc:1115: Starting in XGBoost 1.3.0, the default evaluation metric used with the objective 'binary:logistic' was changed from 'error' to 'logloss'. Explicitly set eval_metric if you'd like to restore the old behavior.\n",
      "[CV] . n_estimators=100, max_depth=2, learning_rate=0.2, total=   0.1s\n",
      "[CV] n_estimators=100, max_depth=2, learning_rate=0.2 ................\n",
      "[21:31:59] WARNING: C:/Users/Administrator/workspace/xgboost-win64_release_1.5.1/src/learner.cc:1115: Starting in XGBoost 1.3.0, the default evaluation metric used with the objective 'binary:logistic' was changed from 'error' to 'logloss'. Explicitly set eval_metric if you'd like to restore the old behavior.\n",
      "[CV] . n_estimators=100, max_depth=2, learning_rate=0.2, total=   0.1s\n",
      "[CV] n_estimators=100, max_depth=2, learning_rate=0.2 ................\n",
      "[21:31:59] WARNING: C:/Users/Administrator/workspace/xgboost-win64_release_1.5.1/src/learner.cc:1115: Starting in XGBoost 1.3.0, the default evaluation metric used with the objective 'binary:logistic' was changed from 'error' to 'logloss'. Explicitly set eval_metric if you'd like to restore the old behavior.\n",
      "[CV] . n_estimators=100, max_depth=2, learning_rate=0.2, total=   0.1s\n",
      "[CV] n_estimators=450, max_depth=6, learning_rate=0.3 ................\n",
      "[21:31:59] WARNING: C:/Users/Administrator/workspace/xgboost-win64_release_1.5.1/src/learner.cc:1115: Starting in XGBoost 1.3.0, the default evaluation metric used with the objective 'binary:logistic' was changed from 'error' to 'logloss'. Explicitly set eval_metric if you'd like to restore the old behavior.\n",
      "[CV] . n_estimators=450, max_depth=6, learning_rate=0.3, total=   0.4s\n",
      "[CV] n_estimators=450, max_depth=6, learning_rate=0.3 ................\n",
      "[21:32:00] WARNING: C:/Users/Administrator/workspace/xgboost-win64_release_1.5.1/src/learner.cc:1115: Starting in XGBoost 1.3.0, the default evaluation metric used with the objective 'binary:logistic' was changed from 'error' to 'logloss'. Explicitly set eval_metric if you'd like to restore the old behavior.\n",
      "[CV] . n_estimators=450, max_depth=6, learning_rate=0.3, total=   0.4s\n",
      "[CV] n_estimators=450, max_depth=6, learning_rate=0.3 ................\n",
      "[21:32:00] WARNING: C:/Users/Administrator/workspace/xgboost-win64_release_1.5.1/src/learner.cc:1115: Starting in XGBoost 1.3.0, the default evaluation metric used with the objective 'binary:logistic' was changed from 'error' to 'logloss'. Explicitly set eval_metric if you'd like to restore the old behavior.\n",
      "[CV] . n_estimators=450, max_depth=6, learning_rate=0.3, total=   0.4s\n",
      "[CV] n_estimators=400, max_depth=4, learning_rate=0.001 ..............\n",
      "[21:32:00] WARNING: C:/Users/Administrator/workspace/xgboost-win64_release_1.5.1/src/learner.cc:1115: Starting in XGBoost 1.3.0, the default evaluation metric used with the objective 'binary:logistic' was changed from 'error' to 'logloss'. Explicitly set eval_metric if you'd like to restore the old behavior.\n",
      "[CV]  n_estimators=400, max_depth=4, learning_rate=0.001, total=   0.5s\n",
      "[CV] n_estimators=400, max_depth=4, learning_rate=0.001 ..............\n",
      "[21:32:01] WARNING: C:/Users/Administrator/workspace/xgboost-win64_release_1.5.1/src/learner.cc:1115: Starting in XGBoost 1.3.0, the default evaluation metric used with the objective 'binary:logistic' was changed from 'error' to 'logloss'. Explicitly set eval_metric if you'd like to restore the old behavior.\n",
      "[CV]  n_estimators=400, max_depth=4, learning_rate=0.001, total=   0.4s\n",
      "[CV] n_estimators=400, max_depth=4, learning_rate=0.001 ..............\n",
      "[21:32:01] WARNING: C:/Users/Administrator/workspace/xgboost-win64_release_1.5.1/src/learner.cc:1115: Starting in XGBoost 1.3.0, the default evaluation metric used with the objective 'binary:logistic' was changed from 'error' to 'logloss'. Explicitly set eval_metric if you'd like to restore the old behavior.\n",
      "[CV]  n_estimators=400, max_depth=4, learning_rate=0.001, total=   0.5s\n",
      "[CV] n_estimators=150, max_depth=3, learning_rate=0.001 ..............\n",
      "[21:32:02] WARNING: C:/Users/Administrator/workspace/xgboost-win64_release_1.5.1/src/learner.cc:1115: Starting in XGBoost 1.3.0, the default evaluation metric used with the objective 'binary:logistic' was changed from 'error' to 'logloss'. Explicitly set eval_metric if you'd like to restore the old behavior.\n",
      "[CV]  n_estimators=150, max_depth=3, learning_rate=0.001, total=   0.1s\n",
      "[CV] n_estimators=150, max_depth=3, learning_rate=0.001 ..............\n",
      "[21:32:02] WARNING: C:/Users/Administrator/workspace/xgboost-win64_release_1.5.1/src/learner.cc:1115: Starting in XGBoost 1.3.0, the default evaluation metric used with the objective 'binary:logistic' was changed from 'error' to 'logloss'. Explicitly set eval_metric if you'd like to restore the old behavior.\n",
      "[CV]  n_estimators=150, max_depth=3, learning_rate=0.001, total=   0.1s\n",
      "[CV] n_estimators=150, max_depth=3, learning_rate=0.001 ..............\n",
      "[21:32:02] WARNING: C:/Users/Administrator/workspace/xgboost-win64_release_1.5.1/src/learner.cc:1115: Starting in XGBoost 1.3.0, the default evaluation metric used with the objective 'binary:logistic' was changed from 'error' to 'logloss'. Explicitly set eval_metric if you'd like to restore the old behavior.\n",
      "[CV]  n_estimators=150, max_depth=3, learning_rate=0.001, total=   0.1s\n",
      "[CV] n_estimators=300, max_depth=2, learning_rate=0.2 ................\n",
      "[21:32:02] WARNING: C:/Users/Administrator/workspace/xgboost-win64_release_1.5.1/src/learner.cc:1115: Starting in XGBoost 1.3.0, the default evaluation metric used with the objective 'binary:logistic' was changed from 'error' to 'logloss'. Explicitly set eval_metric if you'd like to restore the old behavior.\n",
      "[CV] . n_estimators=300, max_depth=2, learning_rate=0.2, total=   0.2s\n",
      "[CV] n_estimators=300, max_depth=2, learning_rate=0.2 ................\n",
      "[21:32:02] WARNING: C:/Users/Administrator/workspace/xgboost-win64_release_1.5.1/src/learner.cc:1115: Starting in XGBoost 1.3.0, the default evaluation metric used with the objective 'binary:logistic' was changed from 'error' to 'logloss'. Explicitly set eval_metric if you'd like to restore the old behavior.\n",
      "[CV] . n_estimators=300, max_depth=2, learning_rate=0.2, total=   0.2s\n",
      "[CV] n_estimators=300, max_depth=2, learning_rate=0.2 ................\n",
      "[21:32:03] WARNING: C:/Users/Administrator/workspace/xgboost-win64_release_1.5.1/src/learner.cc:1115: Starting in XGBoost 1.3.0, the default evaluation metric used with the objective 'binary:logistic' was changed from 'error' to 'logloss'. Explicitly set eval_metric if you'd like to restore the old behavior.\n",
      "[CV] . n_estimators=300, max_depth=2, learning_rate=0.2, total=   0.2s\n",
      "[CV] n_estimators=650, max_depth=4, learning_rate=0.01 ...............\n",
      "[21:32:03] WARNING: C:/Users/Administrator/workspace/xgboost-win64_release_1.5.1/src/learner.cc:1115: Starting in XGBoost 1.3.0, the default evaluation metric used with the objective 'binary:logistic' was changed from 'error' to 'logloss'. Explicitly set eval_metric if you'd like to restore the old behavior.\n",
      "[CV]  n_estimators=650, max_depth=4, learning_rate=0.01, total=   0.7s\n",
      "[CV] n_estimators=650, max_depth=4, learning_rate=0.01 ...............\n",
      "[21:32:04] WARNING: C:/Users/Administrator/workspace/xgboost-win64_release_1.5.1/src/learner.cc:1115: Starting in XGBoost 1.3.0, the default evaluation metric used with the objective 'binary:logistic' was changed from 'error' to 'logloss'. Explicitly set eval_metric if you'd like to restore the old behavior.\n",
      "[CV]  n_estimators=650, max_depth=4, learning_rate=0.01, total=   0.6s\n",
      "[CV] n_estimators=650, max_depth=4, learning_rate=0.01 ...............\n",
      "[21:32:04] WARNING: C:/Users/Administrator/workspace/xgboost-win64_release_1.5.1/src/learner.cc:1115: Starting in XGBoost 1.3.0, the default evaluation metric used with the objective 'binary:logistic' was changed from 'error' to 'logloss'. Explicitly set eval_metric if you'd like to restore the old behavior.\n",
      "[CV]  n_estimators=650, max_depth=4, learning_rate=0.01, total=   0.6s\n",
      "[CV] n_estimators=650, max_depth=2, learning_rate=0.001 ..............\n",
      "[21:32:05] WARNING: C:/Users/Administrator/workspace/xgboost-win64_release_1.5.1/src/learner.cc:1115: Starting in XGBoost 1.3.0, the default evaluation metric used with the objective 'binary:logistic' was changed from 'error' to 'logloss'. Explicitly set eval_metric if you'd like to restore the old behavior.\n",
      "[CV]  n_estimators=650, max_depth=2, learning_rate=0.001, total=   0.4s\n",
      "[CV] n_estimators=650, max_depth=2, learning_rate=0.001 ..............\n",
      "[21:32:05] WARNING: C:/Users/Administrator/workspace/xgboost-win64_release_1.5.1/src/learner.cc:1115: Starting in XGBoost 1.3.0, the default evaluation metric used with the objective 'binary:logistic' was changed from 'error' to 'logloss'. Explicitly set eval_metric if you'd like to restore the old behavior.\n",
      "[CV]  n_estimators=650, max_depth=2, learning_rate=0.001, total=   0.4s\n",
      "[CV] n_estimators=650, max_depth=2, learning_rate=0.001 ..............\n",
      "[21:32:06] WARNING: C:/Users/Administrator/workspace/xgboost-win64_release_1.5.1/src/learner.cc:1115: Starting in XGBoost 1.3.0, the default evaluation metric used with the objective 'binary:logistic' was changed from 'error' to 'logloss'. Explicitly set eval_metric if you'd like to restore the old behavior.\n",
      "[CV]  n_estimators=650, max_depth=2, learning_rate=0.001, total=   0.4s\n",
      "[CV] n_estimators=300, max_depth=3, learning_rate=0.001 ..............\n",
      "[21:32:06] WARNING: C:/Users/Administrator/workspace/xgboost-win64_release_1.5.1/src/learner.cc:1115: Starting in XGBoost 1.3.0, the default evaluation metric used with the objective 'binary:logistic' was changed from 'error' to 'logloss'. Explicitly set eval_metric if you'd like to restore the old behavior.\n",
      "[CV]  n_estimators=300, max_depth=3, learning_rate=0.001, total=   0.2s\n",
      "[CV] n_estimators=300, max_depth=3, learning_rate=0.001 ..............\n",
      "[21:32:06] WARNING: C:/Users/Administrator/workspace/xgboost-win64_release_1.5.1/src/learner.cc:1115: Starting in XGBoost 1.3.0, the default evaluation metric used with the objective 'binary:logistic' was changed from 'error' to 'logloss'. Explicitly set eval_metric if you'd like to restore the old behavior.\n",
      "[CV]  n_estimators=300, max_depth=3, learning_rate=0.001, total=   0.3s\n",
      "[CV] n_estimators=300, max_depth=3, learning_rate=0.001 ..............\n",
      "[21:32:06] WARNING: C:/Users/Administrator/workspace/xgboost-win64_release_1.5.1/src/learner.cc:1115: Starting in XGBoost 1.3.0, the default evaluation metric used with the objective 'binary:logistic' was changed from 'error' to 'logloss'. Explicitly set eval_metric if you'd like to restore the old behavior.\n",
      "[CV]  n_estimators=300, max_depth=3, learning_rate=0.001, total=   0.3s\n",
      "[CV] n_estimators=450, max_depth=5, learning_rate=0.001 ..............\n",
      "[21:32:07] WARNING: C:/Users/Administrator/workspace/xgboost-win64_release_1.5.1/src/learner.cc:1115: Starting in XGBoost 1.3.0, the default evaluation metric used with the objective 'binary:logistic' was changed from 'error' to 'logloss'. Explicitly set eval_metric if you'd like to restore the old behavior.\n",
      "[CV]  n_estimators=450, max_depth=5, learning_rate=0.001, total=   0.6s\n",
      "[CV] n_estimators=450, max_depth=5, learning_rate=0.001 ..............\n",
      "[21:32:07] WARNING: C:/Users/Administrator/workspace/xgboost-win64_release_1.5.1/src/learner.cc:1115: Starting in XGBoost 1.3.0, the default evaluation metric used with the objective 'binary:logistic' was changed from 'error' to 'logloss'. Explicitly set eval_metric if you'd like to restore the old behavior.\n",
      "[CV]  n_estimators=450, max_depth=5, learning_rate=0.001, total=   0.7s\n",
      "[CV] n_estimators=450, max_depth=5, learning_rate=0.001 ..............\n",
      "[21:32:08] WARNING: C:/Users/Administrator/workspace/xgboost-win64_release_1.5.1/src/learner.cc:1115: Starting in XGBoost 1.3.0, the default evaluation metric used with the objective 'binary:logistic' was changed from 'error' to 'logloss'. Explicitly set eval_metric if you'd like to restore the old behavior.\n",
      "[CV]  n_estimators=450, max_depth=5, learning_rate=0.001, total=   0.8s\n",
      "[CV] n_estimators=550, max_depth=4, learning_rate=0.001 ..............\n",
      "[21:32:09] WARNING: C:/Users/Administrator/workspace/xgboost-win64_release_1.5.1/src/learner.cc:1115: Starting in XGBoost 1.3.0, the default evaluation metric used with the objective 'binary:logistic' was changed from 'error' to 'logloss'. Explicitly set eval_metric if you'd like to restore the old behavior.\n",
      "[CV]  n_estimators=550, max_depth=4, learning_rate=0.001, total=   0.6s\n",
      "[CV] n_estimators=550, max_depth=4, learning_rate=0.001 ..............\n",
      "[21:32:10] WARNING: C:/Users/Administrator/workspace/xgboost-win64_release_1.5.1/src/learner.cc:1115: Starting in XGBoost 1.3.0, the default evaluation metric used with the objective 'binary:logistic' was changed from 'error' to 'logloss'. Explicitly set eval_metric if you'd like to restore the old behavior.\n",
      "[CV]  n_estimators=550, max_depth=4, learning_rate=0.001, total=   0.5s\n",
      "[CV] n_estimators=550, max_depth=4, learning_rate=0.001 ..............\n",
      "[21:32:10] WARNING: C:/Users/Administrator/workspace/xgboost-win64_release_1.5.1/src/learner.cc:1115: Starting in XGBoost 1.3.0, the default evaluation metric used with the objective 'binary:logistic' was changed from 'error' to 'logloss'. Explicitly set eval_metric if you'd like to restore the old behavior.\n",
      "[CV]  n_estimators=550, max_depth=4, learning_rate=0.001, total=   0.6s\n",
      "[CV] n_estimators=200, max_depth=3, learning_rate=0.1 ................\n",
      "[21:32:11] WARNING: C:/Users/Administrator/workspace/xgboost-win64_release_1.5.1/src/learner.cc:1115: Starting in XGBoost 1.3.0, the default evaluation metric used with the objective 'binary:logistic' was changed from 'error' to 'logloss'. Explicitly set eval_metric if you'd like to restore the old behavior.\n",
      "[CV] . n_estimators=200, max_depth=3, learning_rate=0.1, total=   0.2s\n",
      "[CV] n_estimators=200, max_depth=3, learning_rate=0.1 ................\n",
      "[21:32:11] WARNING: C:/Users/Administrator/workspace/xgboost-win64_release_1.5.1/src/learner.cc:1115: Starting in XGBoost 1.3.0, the default evaluation metric used with the objective 'binary:logistic' was changed from 'error' to 'logloss'. Explicitly set eval_metric if you'd like to restore the old behavior.\n",
      "[CV] . n_estimators=200, max_depth=3, learning_rate=0.1, total=   0.2s\n",
      "[CV] n_estimators=200, max_depth=3, learning_rate=0.1 ................\n",
      "[21:32:11] WARNING: C:/Users/Administrator/workspace/xgboost-win64_release_1.5.1/src/learner.cc:1115: Starting in XGBoost 1.3.0, the default evaluation metric used with the objective 'binary:logistic' was changed from 'error' to 'logloss'. Explicitly set eval_metric if you'd like to restore the old behavior.\n",
      "[CV] . n_estimators=200, max_depth=3, learning_rate=0.1, total=   0.2s\n",
      "[CV] n_estimators=200, max_depth=5, learning_rate=0.3 ................\n",
      "[21:32:11] WARNING: C:/Users/Administrator/workspace/xgboost-win64_release_1.5.1/src/learner.cc:1115: Starting in XGBoost 1.3.0, the default evaluation metric used with the objective 'binary:logistic' was changed from 'error' to 'logloss'. Explicitly set eval_metric if you'd like to restore the old behavior.\n",
      "[CV] . n_estimators=200, max_depth=5, learning_rate=0.3, total=   0.4s\n",
      "[CV] n_estimators=200, max_depth=5, learning_rate=0.3 ................\n",
      "[21:32:12] WARNING: C:/Users/Administrator/workspace/xgboost-win64_release_1.5.1/src/learner.cc:1115: Starting in XGBoost 1.3.0, the default evaluation metric used with the objective 'binary:logistic' was changed from 'error' to 'logloss'. Explicitly set eval_metric if you'd like to restore the old behavior.\n",
      "[CV] . n_estimators=200, max_depth=5, learning_rate=0.3, total=   0.2s\n",
      "[CV] n_estimators=200, max_depth=5, learning_rate=0.3 ................\n",
      "[21:32:12] WARNING: C:/Users/Administrator/workspace/xgboost-win64_release_1.5.1/src/learner.cc:1115: Starting in XGBoost 1.3.0, the default evaluation metric used with the objective 'binary:logistic' was changed from 'error' to 'logloss'. Explicitly set eval_metric if you'd like to restore the old behavior.\n",
      "[CV] . n_estimators=200, max_depth=5, learning_rate=0.3, total=   0.2s\n",
      "[CV] n_estimators=200, max_depth=4, learning_rate=0.2 ................\n",
      "[21:32:12] WARNING: C:/Users/Administrator/workspace/xgboost-win64_release_1.5.1/src/learner.cc:1115: Starting in XGBoost 1.3.0, the default evaluation metric used with the objective 'binary:logistic' was changed from 'error' to 'logloss'. Explicitly set eval_metric if you'd like to restore the old behavior.\n",
      "[CV] . n_estimators=200, max_depth=4, learning_rate=0.2, total=   0.2s\n",
      "[CV] n_estimators=200, max_depth=4, learning_rate=0.2 ................\n",
      "[21:32:12] WARNING: C:/Users/Administrator/workspace/xgboost-win64_release_1.5.1/src/learner.cc:1115: Starting in XGBoost 1.3.0, the default evaluation metric used with the objective 'binary:logistic' was changed from 'error' to 'logloss'. Explicitly set eval_metric if you'd like to restore the old behavior.\n",
      "[CV] . n_estimators=200, max_depth=4, learning_rate=0.2, total=   0.2s\n",
      "[CV] n_estimators=200, max_depth=4, learning_rate=0.2 ................\n",
      "[21:32:12] WARNING: C:/Users/Administrator/workspace/xgboost-win64_release_1.5.1/src/learner.cc:1115: Starting in XGBoost 1.3.0, the default evaluation metric used with the objective 'binary:logistic' was changed from 'error' to 'logloss'. Explicitly set eval_metric if you'd like to restore the old behavior.\n",
      "[CV] . n_estimators=200, max_depth=4, learning_rate=0.2, total=   0.2s\n",
      "[CV] n_estimators=250, max_depth=3, learning_rate=0.001 ..............\n",
      "[21:32:13] WARNING: C:/Users/Administrator/workspace/xgboost-win64_release_1.5.1/src/learner.cc:1115: Starting in XGBoost 1.3.0, the default evaluation metric used with the objective 'binary:logistic' was changed from 'error' to 'logloss'. Explicitly set eval_metric if you'd like to restore the old behavior.\n",
      "[CV]  n_estimators=250, max_depth=3, learning_rate=0.001, total=   0.2s\n",
      "[CV] n_estimators=250, max_depth=3, learning_rate=0.001 ..............\n",
      "[21:32:13] WARNING: C:/Users/Administrator/workspace/xgboost-win64_release_1.5.1/src/learner.cc:1115: Starting in XGBoost 1.3.0, the default evaluation metric used with the objective 'binary:logistic' was changed from 'error' to 'logloss'. Explicitly set eval_metric if you'd like to restore the old behavior.\n",
      "[CV]  n_estimators=250, max_depth=3, learning_rate=0.001, total=   0.2s\n",
      "[CV] n_estimators=250, max_depth=3, learning_rate=0.001 ..............\n",
      "[21:32:13] WARNING: C:/Users/Administrator/workspace/xgboost-win64_release_1.5.1/src/learner.cc:1115: Starting in XGBoost 1.3.0, the default evaluation metric used with the objective 'binary:logistic' was changed from 'error' to 'logloss'. Explicitly set eval_metric if you'd like to restore the old behavior.\n",
      "[CV]  n_estimators=250, max_depth=3, learning_rate=0.001, total=   0.3s\n",
      "[CV] n_estimators=450, max_depth=2, learning_rate=0.01 ...............\n",
      "[21:32:13] WARNING: C:/Users/Administrator/workspace/xgboost-win64_release_1.5.1/src/learner.cc:1115: Starting in XGBoost 1.3.0, the default evaluation metric used with the objective 'binary:logistic' was changed from 'error' to 'logloss'. Explicitly set eval_metric if you'd like to restore the old behavior.\n",
      "[CV]  n_estimators=450, max_depth=2, learning_rate=0.01, total=   0.3s\n",
      "[CV] n_estimators=450, max_depth=2, learning_rate=0.01 ...............\n",
      "[21:32:14] WARNING: C:/Users/Administrator/workspace/xgboost-win64_release_1.5.1/src/learner.cc:1115: Starting in XGBoost 1.3.0, the default evaluation metric used with the objective 'binary:logistic' was changed from 'error' to 'logloss'. Explicitly set eval_metric if you'd like to restore the old behavior.\n",
      "[CV]  n_estimators=450, max_depth=2, learning_rate=0.01, total=   0.3s\n",
      "[CV] n_estimators=450, max_depth=2, learning_rate=0.01 ...............\n",
      "[21:32:14] WARNING: C:/Users/Administrator/workspace/xgboost-win64_release_1.5.1/src/learner.cc:1115: Starting in XGBoost 1.3.0, the default evaluation metric used with the objective 'binary:logistic' was changed from 'error' to 'logloss'. Explicitly set eval_metric if you'd like to restore the old behavior.\n",
      "[CV]  n_estimators=450, max_depth=2, learning_rate=0.01, total=   0.4s\n",
      "[CV] n_estimators=600, max_depth=6, learning_rate=0.3 ................\n",
      "[21:32:14] WARNING: C:/Users/Administrator/workspace/xgboost-win64_release_1.5.1/src/learner.cc:1115: Starting in XGBoost 1.3.0, the default evaluation metric used with the objective 'binary:logistic' was changed from 'error' to 'logloss'. Explicitly set eval_metric if you'd like to restore the old behavior.\n",
      "[CV] . n_estimators=600, max_depth=6, learning_rate=0.3, total=   0.5s\n",
      "[CV] n_estimators=600, max_depth=6, learning_rate=0.3 ................\n",
      "[21:32:15] WARNING: C:/Users/Administrator/workspace/xgboost-win64_release_1.5.1/src/learner.cc:1115: Starting in XGBoost 1.3.0, the default evaluation metric used with the objective 'binary:logistic' was changed from 'error' to 'logloss'. Explicitly set eval_metric if you'd like to restore the old behavior.\n",
      "[CV] . n_estimators=600, max_depth=6, learning_rate=0.3, total=   0.7s\n",
      "[CV] n_estimators=600, max_depth=6, learning_rate=0.3 ................\n",
      "[21:32:16] WARNING: C:/Users/Administrator/workspace/xgboost-win64_release_1.5.1/src/learner.cc:1115: Starting in XGBoost 1.3.0, the default evaluation metric used with the objective 'binary:logistic' was changed from 'error' to 'logloss'. Explicitly set eval_metric if you'd like to restore the old behavior.\n",
      "[CV] . n_estimators=600, max_depth=6, learning_rate=0.3, total=   0.7s\n",
      "[CV] n_estimators=600, max_depth=4, learning_rate=0.001 ..............\n",
      "[21:32:16] WARNING: C:/Users/Administrator/workspace/xgboost-win64_release_1.5.1/src/learner.cc:1115: Starting in XGBoost 1.3.0, the default evaluation metric used with the objective 'binary:logistic' was changed from 'error' to 'logloss'. Explicitly set eval_metric if you'd like to restore the old behavior.\n",
      "[CV]  n_estimators=600, max_depth=4, learning_rate=0.001, total=   0.8s\n",
      "[CV] n_estimators=600, max_depth=4, learning_rate=0.001 ..............\n",
      "[21:32:17] WARNING: C:/Users/Administrator/workspace/xgboost-win64_release_1.5.1/src/learner.cc:1115: Starting in XGBoost 1.3.0, the default evaluation metric used with the objective 'binary:logistic' was changed from 'error' to 'logloss'. Explicitly set eval_metric if you'd like to restore the old behavior.\n",
      "[CV]  n_estimators=600, max_depth=4, learning_rate=0.001, total=   1.1s\n",
      "[CV] n_estimators=600, max_depth=4, learning_rate=0.001 ..............\n",
      "[21:32:18] WARNING: C:/Users/Administrator/workspace/xgboost-win64_release_1.5.1/src/learner.cc:1115: Starting in XGBoost 1.3.0, the default evaluation metric used with the objective 'binary:logistic' was changed from 'error' to 'logloss'. Explicitly set eval_metric if you'd like to restore the old behavior.\n",
      "[CV]  n_estimators=600, max_depth=4, learning_rate=0.001, total=   0.9s\n",
      "[CV] n_estimators=650, max_depth=3, learning_rate=0.01 ...............\n",
      "[21:32:19] WARNING: C:/Users/Administrator/workspace/xgboost-win64_release_1.5.1/src/learner.cc:1115: Starting in XGBoost 1.3.0, the default evaluation metric used with the objective 'binary:logistic' was changed from 'error' to 'logloss'. Explicitly set eval_metric if you'd like to restore the old behavior.\n",
      "[CV]  n_estimators=650, max_depth=3, learning_rate=0.01, total=   0.7s\n",
      "[CV] n_estimators=650, max_depth=3, learning_rate=0.01 ...............\n",
      "[21:32:20] WARNING: C:/Users/Administrator/workspace/xgboost-win64_release_1.5.1/src/learner.cc:1115: Starting in XGBoost 1.3.0, the default evaluation metric used with the objective 'binary:logistic' was changed from 'error' to 'logloss'. Explicitly set eval_metric if you'd like to restore the old behavior.\n",
      "[CV]  n_estimators=650, max_depth=3, learning_rate=0.01, total=   0.6s\n",
      "[CV] n_estimators=650, max_depth=3, learning_rate=0.01 ...............\n",
      "[21:32:20] WARNING: C:/Users/Administrator/workspace/xgboost-win64_release_1.5.1/src/learner.cc:1115: Starting in XGBoost 1.3.0, the default evaluation metric used with the objective 'binary:logistic' was changed from 'error' to 'logloss'. Explicitly set eval_metric if you'd like to restore the old behavior.\n",
      "[CV]  n_estimators=650, max_depth=3, learning_rate=0.01, total=   0.6s\n",
      "[CV] n_estimators=300, max_depth=2, learning_rate=0.3 ................\n",
      "[21:32:21] WARNING: C:/Users/Administrator/workspace/xgboost-win64_release_1.5.1/src/learner.cc:1115: Starting in XGBoost 1.3.0, the default evaluation metric used with the objective 'binary:logistic' was changed from 'error' to 'logloss'. Explicitly set eval_metric if you'd like to restore the old behavior.\n",
      "[CV] . n_estimators=300, max_depth=2, learning_rate=0.3, total=   0.2s\n",
      "[CV] n_estimators=300, max_depth=2, learning_rate=0.3 ................\n",
      "[21:32:21] WARNING: C:/Users/Administrator/workspace/xgboost-win64_release_1.5.1/src/learner.cc:1115: Starting in XGBoost 1.3.0, the default evaluation metric used with the objective 'binary:logistic' was changed from 'error' to 'logloss'. Explicitly set eval_metric if you'd like to restore the old behavior.\n",
      "[CV] . n_estimators=300, max_depth=2, learning_rate=0.3, total=   0.3s\n",
      "[CV] n_estimators=300, max_depth=2, learning_rate=0.3 ................\n",
      "[21:32:22] WARNING: C:/Users/Administrator/workspace/xgboost-win64_release_1.5.1/src/learner.cc:1115: Starting in XGBoost 1.3.0, the default evaluation metric used with the objective 'binary:logistic' was changed from 'error' to 'logloss'. Explicitly set eval_metric if you'd like to restore the old behavior.\n",
      "[CV] . n_estimators=300, max_depth=2, learning_rate=0.3, total=   0.2s\n",
      "[CV] n_estimators=600, max_depth=2, learning_rate=0.2 ................\n",
      "[21:32:22] WARNING: C:/Users/Administrator/workspace/xgboost-win64_release_1.5.1/src/learner.cc:1115: Starting in XGBoost 1.3.0, the default evaluation metric used with the objective 'binary:logistic' was changed from 'error' to 'logloss'. Explicitly set eval_metric if you'd like to restore the old behavior.\n",
      "[CV] . n_estimators=600, max_depth=2, learning_rate=0.2, total=   0.5s\n",
      "[CV] n_estimators=600, max_depth=2, learning_rate=0.2 ................\n",
      "[21:32:22] WARNING: C:/Users/Administrator/workspace/xgboost-win64_release_1.5.1/src/learner.cc:1115: Starting in XGBoost 1.3.0, the default evaluation metric used with the objective 'binary:logistic' was changed from 'error' to 'logloss'. Explicitly set eval_metric if you'd like to restore the old behavior.\n",
      "[CV] . n_estimators=600, max_depth=2, learning_rate=0.2, total=   0.4s\n",
      "[CV] n_estimators=600, max_depth=2, learning_rate=0.2 ................\n",
      "[21:32:23] WARNING: C:/Users/Administrator/workspace/xgboost-win64_release_1.5.1/src/learner.cc:1115: Starting in XGBoost 1.3.0, the default evaluation metric used with the objective 'binary:logistic' was changed from 'error' to 'logloss'. Explicitly set eval_metric if you'd like to restore the old behavior.\n",
      "[CV] . n_estimators=600, max_depth=2, learning_rate=0.2, total=   0.7s\n",
      "[CV] n_estimators=100, max_depth=5, learning_rate=0.3 ................\n",
      "[21:32:23] WARNING: C:/Users/Administrator/workspace/xgboost-win64_release_1.5.1/src/learner.cc:1115: Starting in XGBoost 1.3.0, the default evaluation metric used with the objective 'binary:logistic' was changed from 'error' to 'logloss'. Explicitly set eval_metric if you'd like to restore the old behavior.\n",
      "[CV] . n_estimators=100, max_depth=5, learning_rate=0.3, total=   0.2s\n",
      "[CV] n_estimators=100, max_depth=5, learning_rate=0.3 ................\n",
      "[21:32:24] WARNING: C:/Users/Administrator/workspace/xgboost-win64_release_1.5.1/src/learner.cc:1115: Starting in XGBoost 1.3.0, the default evaluation metric used with the objective 'binary:logistic' was changed from 'error' to 'logloss'. Explicitly set eval_metric if you'd like to restore the old behavior.\n",
      "[CV] . n_estimators=100, max_depth=5, learning_rate=0.3, total=   0.2s\n",
      "[CV] n_estimators=100, max_depth=5, learning_rate=0.3 ................\n",
      "[21:32:24] WARNING: C:/Users/Administrator/workspace/xgboost-win64_release_1.5.1/src/learner.cc:1115: Starting in XGBoost 1.3.0, the default evaluation metric used with the objective 'binary:logistic' was changed from 'error' to 'logloss'. Explicitly set eval_metric if you'd like to restore the old behavior.\n",
      "[CV] . n_estimators=100, max_depth=5, learning_rate=0.3, total=   0.2s\n",
      "[CV] n_estimators=450, max_depth=5, learning_rate=0.2 ................\n",
      "[21:32:24] WARNING: C:/Users/Administrator/workspace/xgboost-win64_release_1.5.1/src/learner.cc:1115: Starting in XGBoost 1.3.0, the default evaluation metric used with the objective 'binary:logistic' was changed from 'error' to 'logloss'. Explicitly set eval_metric if you'd like to restore the old behavior.\n",
      "[CV] . n_estimators=450, max_depth=5, learning_rate=0.2, total=   0.5s\n",
      "[CV] n_estimators=450, max_depth=5, learning_rate=0.2 ................\n",
      "[21:32:24] WARNING: C:/Users/Administrator/workspace/xgboost-win64_release_1.5.1/src/learner.cc:1115: Starting in XGBoost 1.3.0, the default evaluation metric used with the objective 'binary:logistic' was changed from 'error' to 'logloss'. Explicitly set eval_metric if you'd like to restore the old behavior.\n",
      "[CV] . n_estimators=450, max_depth=5, learning_rate=0.2, total=   0.4s\n",
      "[CV] n_estimators=450, max_depth=5, learning_rate=0.2 ................\n",
      "[21:32:25] WARNING: C:/Users/Administrator/workspace/xgboost-win64_release_1.5.1/src/learner.cc:1115: Starting in XGBoost 1.3.0, the default evaluation metric used with the objective 'binary:logistic' was changed from 'error' to 'logloss'. Explicitly set eval_metric if you'd like to restore the old behavior.\n",
      "[CV] . n_estimators=450, max_depth=5, learning_rate=0.2, total=   0.4s\n",
      "[CV] n_estimators=650, max_depth=6, learning_rate=0.3 ................\n",
      "[21:32:25] WARNING: C:/Users/Administrator/workspace/xgboost-win64_release_1.5.1/src/learner.cc:1115: Starting in XGBoost 1.3.0, the default evaluation metric used with the objective 'binary:logistic' was changed from 'error' to 'logloss'. Explicitly set eval_metric if you'd like to restore the old behavior.\n",
      "[CV] . n_estimators=650, max_depth=6, learning_rate=0.3, total=   0.6s\n",
      "[CV] n_estimators=650, max_depth=6, learning_rate=0.3 ................\n",
      "[21:32:26] WARNING: C:/Users/Administrator/workspace/xgboost-win64_release_1.5.1/src/learner.cc:1115: Starting in XGBoost 1.3.0, the default evaluation metric used with the objective 'binary:logistic' was changed from 'error' to 'logloss'. Explicitly set eval_metric if you'd like to restore the old behavior.\n",
      "[CV] . n_estimators=650, max_depth=6, learning_rate=0.3, total=   0.9s\n",
      "[CV] n_estimators=650, max_depth=6, learning_rate=0.3 ................\n",
      "[21:32:27] WARNING: C:/Users/Administrator/workspace/xgboost-win64_release_1.5.1/src/learner.cc:1115: Starting in XGBoost 1.3.0, the default evaluation metric used with the objective 'binary:logistic' was changed from 'error' to 'logloss'. Explicitly set eval_metric if you'd like to restore the old behavior.\n",
      "[CV] . n_estimators=650, max_depth=6, learning_rate=0.3, total=   0.7s\n",
      "[CV] n_estimators=550, max_depth=2, learning_rate=0.01 ...............\n",
      "[21:32:27] WARNING: C:/Users/Administrator/workspace/xgboost-win64_release_1.5.1/src/learner.cc:1115: Starting in XGBoost 1.3.0, the default evaluation metric used with the objective 'binary:logistic' was changed from 'error' to 'logloss'. Explicitly set eval_metric if you'd like to restore the old behavior.\n",
      "[CV]  n_estimators=550, max_depth=2, learning_rate=0.01, total=   0.5s\n",
      "[CV] n_estimators=550, max_depth=2, learning_rate=0.01 ...............\n",
      "[21:32:28] WARNING: C:/Users/Administrator/workspace/xgboost-win64_release_1.5.1/src/learner.cc:1115: Starting in XGBoost 1.3.0, the default evaluation metric used with the objective 'binary:logistic' was changed from 'error' to 'logloss'. Explicitly set eval_metric if you'd like to restore the old behavior.\n",
      "[CV]  n_estimators=550, max_depth=2, learning_rate=0.01, total=   0.5s\n",
      "[CV] n_estimators=550, max_depth=2, learning_rate=0.01 ...............\n",
      "[21:32:29] WARNING: C:/Users/Administrator/workspace/xgboost-win64_release_1.5.1/src/learner.cc:1115: Starting in XGBoost 1.3.0, the default evaluation metric used with the objective 'binary:logistic' was changed from 'error' to 'logloss'. Explicitly set eval_metric if you'd like to restore the old behavior.\n",
      "[CV]  n_estimators=550, max_depth=2, learning_rate=0.01, total=   0.5s\n",
      "[CV] n_estimators=650, max_depth=6, learning_rate=0.01 ...............\n",
      "[21:32:29] WARNING: C:/Users/Administrator/workspace/xgboost-win64_release_1.5.1/src/learner.cc:1115: Starting in XGBoost 1.3.0, the default evaluation metric used with the objective 'binary:logistic' was changed from 'error' to 'logloss'. Explicitly set eval_metric if you'd like to restore the old behavior.\n",
      "[CV]  n_estimators=650, max_depth=6, learning_rate=0.01, total=   1.0s\n",
      "[CV] n_estimators=650, max_depth=6, learning_rate=0.01 ...............\n",
      "[21:32:30] WARNING: C:/Users/Administrator/workspace/xgboost-win64_release_1.5.1/src/learner.cc:1115: Starting in XGBoost 1.3.0, the default evaluation metric used with the objective 'binary:logistic' was changed from 'error' to 'logloss'. Explicitly set eval_metric if you'd like to restore the old behavior.\n",
      "[CV]  n_estimators=650, max_depth=6, learning_rate=0.01, total=   1.1s\n",
      "[CV] n_estimators=650, max_depth=6, learning_rate=0.01 ...............\n",
      "[21:32:31] WARNING: C:/Users/Administrator/workspace/xgboost-win64_release_1.5.1/src/learner.cc:1115: Starting in XGBoost 1.3.0, the default evaluation metric used with the objective 'binary:logistic' was changed from 'error' to 'logloss'. Explicitly set eval_metric if you'd like to restore the old behavior.\n",
      "[CV]  n_estimators=650, max_depth=6, learning_rate=0.01, total=   1.3s\n",
      "[CV] n_estimators=150, max_depth=5, learning_rate=0.001 ..............\n",
      "[21:32:32] WARNING: C:/Users/Administrator/workspace/xgboost-win64_release_1.5.1/src/learner.cc:1115: Starting in XGBoost 1.3.0, the default evaluation metric used with the objective 'binary:logistic' was changed from 'error' to 'logloss'. Explicitly set eval_metric if you'd like to restore the old behavior.\n",
      "[CV]  n_estimators=150, max_depth=5, learning_rate=0.001, total=   0.3s\n",
      "[CV] n_estimators=150, max_depth=5, learning_rate=0.001 ..............\n",
      "[21:32:33] WARNING: C:/Users/Administrator/workspace/xgboost-win64_release_1.5.1/src/learner.cc:1115: Starting in XGBoost 1.3.0, the default evaluation metric used with the objective 'binary:logistic' was changed from 'error' to 'logloss'. Explicitly set eval_metric if you'd like to restore the old behavior.\n",
      "[CV]  n_estimators=150, max_depth=5, learning_rate=0.001, total=   0.3s\n",
      "[CV] n_estimators=150, max_depth=5, learning_rate=0.001 ..............\n",
      "[21:32:33] WARNING: C:/Users/Administrator/workspace/xgboost-win64_release_1.5.1/src/learner.cc:1115: Starting in XGBoost 1.3.0, the default evaluation metric used with the objective 'binary:logistic' was changed from 'error' to 'logloss'. Explicitly set eval_metric if you'd like to restore the old behavior.\n",
      "[CV]  n_estimators=150, max_depth=5, learning_rate=0.001, total=   0.2s\n",
      "[CV] n_estimators=200, max_depth=6, learning_rate=0.3 ................\n",
      "[21:32:33] WARNING: C:/Users/Administrator/workspace/xgboost-win64_release_1.5.1/src/learner.cc:1115: Starting in XGBoost 1.3.0, the default evaluation metric used with the objective 'binary:logistic' was changed from 'error' to 'logloss'. Explicitly set eval_metric if you'd like to restore the old behavior.\n",
      "[CV] . n_estimators=200, max_depth=6, learning_rate=0.3, total=   0.2s\n",
      "[CV] n_estimators=200, max_depth=6, learning_rate=0.3 ................\n",
      "[21:32:34] WARNING: C:/Users/Administrator/workspace/xgboost-win64_release_1.5.1/src/learner.cc:1115: Starting in XGBoost 1.3.0, the default evaluation metric used with the objective 'binary:logistic' was changed from 'error' to 'logloss'. Explicitly set eval_metric if you'd like to restore the old behavior.\n",
      "[CV] . n_estimators=200, max_depth=6, learning_rate=0.3, total=   0.3s\n",
      "[CV] n_estimators=200, max_depth=6, learning_rate=0.3 ................\n",
      "[21:32:34] WARNING: C:/Users/Administrator/workspace/xgboost-win64_release_1.5.1/src/learner.cc:1115: Starting in XGBoost 1.3.0, the default evaluation metric used with the objective 'binary:logistic' was changed from 'error' to 'logloss'. Explicitly set eval_metric if you'd like to restore the old behavior.\n",
      "[CV] . n_estimators=200, max_depth=6, learning_rate=0.3, total=   0.4s\n",
      "[CV] n_estimators=100, max_depth=5, learning_rate=0.2 ................\n",
      "[21:32:34] WARNING: C:/Users/Administrator/workspace/xgboost-win64_release_1.5.1/src/learner.cc:1115: Starting in XGBoost 1.3.0, the default evaluation metric used with the objective 'binary:logistic' was changed from 'error' to 'logloss'. Explicitly set eval_metric if you'd like to restore the old behavior.\n",
      "[CV] . n_estimators=100, max_depth=5, learning_rate=0.2, total=   0.1s\n",
      "[CV] n_estimators=100, max_depth=5, learning_rate=0.2 ................\n",
      "[21:32:34] WARNING: C:/Users/Administrator/workspace/xgboost-win64_release_1.5.1/src/learner.cc:1115: Starting in XGBoost 1.3.0, the default evaluation metric used with the objective 'binary:logistic' was changed from 'error' to 'logloss'. Explicitly set eval_metric if you'd like to restore the old behavior.\n",
      "[CV] . n_estimators=100, max_depth=5, learning_rate=0.2, total=   0.1s\n",
      "[CV] n_estimators=100, max_depth=5, learning_rate=0.2 ................\n",
      "[21:32:35] WARNING: C:/Users/Administrator/workspace/xgboost-win64_release_1.5.1/src/learner.cc:1115: Starting in XGBoost 1.3.0, the default evaluation metric used with the objective 'binary:logistic' was changed from 'error' to 'logloss'. Explicitly set eval_metric if you'd like to restore the old behavior.\n",
      "[CV] . n_estimators=100, max_depth=5, learning_rate=0.2, total=   0.2s\n",
      "[CV] n_estimators=150, max_depth=6, learning_rate=0.2 ................\n",
      "[21:32:35] WARNING: C:/Users/Administrator/workspace/xgboost-win64_release_1.5.1/src/learner.cc:1115: Starting in XGBoost 1.3.0, the default evaluation metric used with the objective 'binary:logistic' was changed from 'error' to 'logloss'. Explicitly set eval_metric if you'd like to restore the old behavior.\n",
      "[CV] . n_estimators=150, max_depth=6, learning_rate=0.2, total=   0.2s\n",
      "[CV] n_estimators=150, max_depth=6, learning_rate=0.2 ................\n",
      "[21:32:35] WARNING: C:/Users/Administrator/workspace/xgboost-win64_release_1.5.1/src/learner.cc:1115: Starting in XGBoost 1.3.0, the default evaluation metric used with the objective 'binary:logistic' was changed from 'error' to 'logloss'. Explicitly set eval_metric if you'd like to restore the old behavior.\n",
      "[CV] . n_estimators=150, max_depth=6, learning_rate=0.2, total=   0.3s\n",
      "[CV] n_estimators=150, max_depth=6, learning_rate=0.2 ................\n",
      "[21:32:35] WARNING: C:/Users/Administrator/workspace/xgboost-win64_release_1.5.1/src/learner.cc:1115: Starting in XGBoost 1.3.0, the default evaluation metric used with the objective 'binary:logistic' was changed from 'error' to 'logloss'. Explicitly set eval_metric if you'd like to restore the old behavior.\n",
      "[CV] . n_estimators=150, max_depth=6, learning_rate=0.2, total=   0.2s\n",
      "[CV] n_estimators=650, max_depth=2, learning_rate=0.01 ...............\n",
      "[21:32:35] WARNING: C:/Users/Administrator/workspace/xgboost-win64_release_1.5.1/src/learner.cc:1115: Starting in XGBoost 1.3.0, the default evaluation metric used with the objective 'binary:logistic' was changed from 'error' to 'logloss'. Explicitly set eval_metric if you'd like to restore the old behavior.\n",
      "[CV]  n_estimators=650, max_depth=2, learning_rate=0.01, total=   0.6s\n",
      "[CV] n_estimators=650, max_depth=2, learning_rate=0.01 ...............\n",
      "[21:32:36] WARNING: C:/Users/Administrator/workspace/xgboost-win64_release_1.5.1/src/learner.cc:1115: Starting in XGBoost 1.3.0, the default evaluation metric used with the objective 'binary:logistic' was changed from 'error' to 'logloss'. Explicitly set eval_metric if you'd like to restore the old behavior.\n",
      "[CV]  n_estimators=650, max_depth=2, learning_rate=0.01, total=   0.5s\n",
      "[CV] n_estimators=650, max_depth=2, learning_rate=0.01 ...............\n",
      "[21:32:36] WARNING: C:/Users/Administrator/workspace/xgboost-win64_release_1.5.1/src/learner.cc:1115: Starting in XGBoost 1.3.0, the default evaluation metric used with the objective 'binary:logistic' was changed from 'error' to 'logloss'. Explicitly set eval_metric if you'd like to restore the old behavior.\n",
      "[CV]  n_estimators=650, max_depth=2, learning_rate=0.01, total=   0.9s\n",
      "[CV] n_estimators=250, max_depth=6, learning_rate=0.3 ................\n",
      "[21:32:37] WARNING: C:/Users/Administrator/workspace/xgboost-win64_release_1.5.1/src/learner.cc:1115: Starting in XGBoost 1.3.0, the default evaluation metric used with the objective 'binary:logistic' was changed from 'error' to 'logloss'. Explicitly set eval_metric if you'd like to restore the old behavior.\n",
      "[CV] . n_estimators=250, max_depth=6, learning_rate=0.3, total=   0.4s\n",
      "[CV] n_estimators=250, max_depth=6, learning_rate=0.3 ................\n",
      "[21:32:38] WARNING: C:/Users/Administrator/workspace/xgboost-win64_release_1.5.1/src/learner.cc:1115: Starting in XGBoost 1.3.0, the default evaluation metric used with the objective 'binary:logistic' was changed from 'error' to 'logloss'. Explicitly set eval_metric if you'd like to restore the old behavior.\n",
      "[CV] . n_estimators=250, max_depth=6, learning_rate=0.3, total=   0.3s\n",
      "[CV] n_estimators=250, max_depth=6, learning_rate=0.3 ................\n",
      "[21:32:38] WARNING: C:/Users/Administrator/workspace/xgboost-win64_release_1.5.1/src/learner.cc:1115: Starting in XGBoost 1.3.0, the default evaluation metric used with the objective 'binary:logistic' was changed from 'error' to 'logloss'. Explicitly set eval_metric if you'd like to restore the old behavior.\n",
      "[CV] . n_estimators=250, max_depth=6, learning_rate=0.3, total=   0.3s\n",
      "[CV] n_estimators=200, max_depth=3, learning_rate=0.001 ..............\n",
      "[21:32:38] WARNING: C:/Users/Administrator/workspace/xgboost-win64_release_1.5.1/src/learner.cc:1115: Starting in XGBoost 1.3.0, the default evaluation metric used with the objective 'binary:logistic' was changed from 'error' to 'logloss'. Explicitly set eval_metric if you'd like to restore the old behavior.\n",
      "[CV]  n_estimators=200, max_depth=3, learning_rate=0.001, total=   0.2s\n",
      "[CV] n_estimators=200, max_depth=3, learning_rate=0.001 ..............\n",
      "[21:32:38] WARNING: C:/Users/Administrator/workspace/xgboost-win64_release_1.5.1/src/learner.cc:1115: Starting in XGBoost 1.3.0, the default evaluation metric used with the objective 'binary:logistic' was changed from 'error' to 'logloss'. Explicitly set eval_metric if you'd like to restore the old behavior.\n",
      "[CV]  n_estimators=200, max_depth=3, learning_rate=0.001, total=   0.4s\n",
      "[CV] n_estimators=200, max_depth=3, learning_rate=0.001 ..............\n",
      "[21:32:39] WARNING: C:/Users/Administrator/workspace/xgboost-win64_release_1.5.1/src/learner.cc:1115: Starting in XGBoost 1.3.0, the default evaluation metric used with the objective 'binary:logistic' was changed from 'error' to 'logloss'. Explicitly set eval_metric if you'd like to restore the old behavior.\n",
      "[CV]  n_estimators=200, max_depth=3, learning_rate=0.001, total=   0.2s\n",
      "[CV] n_estimators=650, max_depth=2, learning_rate=0.2 ................\n",
      "[21:32:39] WARNING: C:/Users/Administrator/workspace/xgboost-win64_release_1.5.1/src/learner.cc:1115: Starting in XGBoost 1.3.0, the default evaluation metric used with the objective 'binary:logistic' was changed from 'error' to 'logloss'. Explicitly set eval_metric if you'd like to restore the old behavior.\n",
      "[CV] . n_estimators=650, max_depth=2, learning_rate=0.2, total=   0.6s\n",
      "[CV] n_estimators=650, max_depth=2, learning_rate=0.2 ................\n",
      "[21:32:40] WARNING: C:/Users/Administrator/workspace/xgboost-win64_release_1.5.1/src/learner.cc:1115: Starting in XGBoost 1.3.0, the default evaluation metric used with the objective 'binary:logistic' was changed from 'error' to 'logloss'. Explicitly set eval_metric if you'd like to restore the old behavior.\n",
      "[CV] . n_estimators=650, max_depth=2, learning_rate=0.2, total=   0.5s\n",
      "[CV] n_estimators=650, max_depth=2, learning_rate=0.2 ................\n",
      "[21:32:40] WARNING: C:/Users/Administrator/workspace/xgboost-win64_release_1.5.1/src/learner.cc:1115: Starting in XGBoost 1.3.0, the default evaluation metric used with the objective 'binary:logistic' was changed from 'error' to 'logloss'. Explicitly set eval_metric if you'd like to restore the old behavior.\n",
      "[CV] . n_estimators=650, max_depth=2, learning_rate=0.2, total=   0.6s\n",
      "[CV] n_estimators=550, max_depth=3, learning_rate=0.2 ................\n",
      "[21:32:41] WARNING: C:/Users/Administrator/workspace/xgboost-win64_release_1.5.1/src/learner.cc:1115: Starting in XGBoost 1.3.0, the default evaluation metric used with the objective 'binary:logistic' was changed from 'error' to 'logloss'. Explicitly set eval_metric if you'd like to restore the old behavior.\n",
      "[CV] . n_estimators=550, max_depth=3, learning_rate=0.2, total=   0.5s\n",
      "[CV] n_estimators=550, max_depth=3, learning_rate=0.2 ................\n",
      "[21:32:41] WARNING: C:/Users/Administrator/workspace/xgboost-win64_release_1.5.1/src/learner.cc:1115: Starting in XGBoost 1.3.0, the default evaluation metric used with the objective 'binary:logistic' was changed from 'error' to 'logloss'. Explicitly set eval_metric if you'd like to restore the old behavior.\n",
      "[CV] . n_estimators=550, max_depth=3, learning_rate=0.2, total=   0.5s\n",
      "[CV] n_estimators=550, max_depth=3, learning_rate=0.2 ................\n",
      "[21:32:42] WARNING: C:/Users/Administrator/workspace/xgboost-win64_release_1.5.1/src/learner.cc:1115: Starting in XGBoost 1.3.0, the default evaluation metric used with the objective 'binary:logistic' was changed from 'error' to 'logloss'. Explicitly set eval_metric if you'd like to restore the old behavior.\n",
      "[CV] . n_estimators=550, max_depth=3, learning_rate=0.2, total=   0.6s\n",
      "[CV] n_estimators=250, max_depth=4, learning_rate=0.01 ...............\n",
      "[21:32:42] WARNING: C:/Users/Administrator/workspace/xgboost-win64_release_1.5.1/src/learner.cc:1115: Starting in XGBoost 1.3.0, the default evaluation metric used with the objective 'binary:logistic' was changed from 'error' to 'logloss'. Explicitly set eval_metric if you'd like to restore the old behavior.\n",
      "[CV]  n_estimators=250, max_depth=4, learning_rate=0.01, total=   0.3s\n",
      "[CV] n_estimators=250, max_depth=4, learning_rate=0.01 ...............\n",
      "[21:32:43] WARNING: C:/Users/Administrator/workspace/xgboost-win64_release_1.5.1/src/learner.cc:1115: Starting in XGBoost 1.3.0, the default evaluation metric used with the objective 'binary:logistic' was changed from 'error' to 'logloss'. Explicitly set eval_metric if you'd like to restore the old behavior.\n",
      "[CV]  n_estimators=250, max_depth=4, learning_rate=0.01, total=   0.3s\n",
      "[CV] n_estimators=250, max_depth=4, learning_rate=0.01 ...............\n",
      "[21:32:43] WARNING: C:/Users/Administrator/workspace/xgboost-win64_release_1.5.1/src/learner.cc:1115: Starting in XGBoost 1.3.0, the default evaluation metric used with the objective 'binary:logistic' was changed from 'error' to 'logloss'. Explicitly set eval_metric if you'd like to restore the old behavior.\n",
      "[CV]  n_estimators=250, max_depth=4, learning_rate=0.01, total=   0.3s\n",
      "[CV] n_estimators=650, max_depth=3, learning_rate=0.3 ................\n",
      "[21:32:43] WARNING: C:/Users/Administrator/workspace/xgboost-win64_release_1.5.1/src/learner.cc:1115: Starting in XGBoost 1.3.0, the default evaluation metric used with the objective 'binary:logistic' was changed from 'error' to 'logloss'. Explicitly set eval_metric if you'd like to restore the old behavior.\n",
      "[CV] . n_estimators=650, max_depth=3, learning_rate=0.3, total=   0.5s\n",
      "[CV] n_estimators=650, max_depth=3, learning_rate=0.3 ................\n",
      "[21:32:44] WARNING: C:/Users/Administrator/workspace/xgboost-win64_release_1.5.1/src/learner.cc:1115: Starting in XGBoost 1.3.0, the default evaluation metric used with the objective 'binary:logistic' was changed from 'error' to 'logloss'. Explicitly set eval_metric if you'd like to restore the old behavior.\n",
      "[CV] . n_estimators=650, max_depth=3, learning_rate=0.3, total=   0.5s\n",
      "[CV] n_estimators=650, max_depth=3, learning_rate=0.3 ................\n",
      "[21:32:44] WARNING: C:/Users/Administrator/workspace/xgboost-win64_release_1.5.1/src/learner.cc:1115: Starting in XGBoost 1.3.0, the default evaluation metric used with the objective 'binary:logistic' was changed from 'error' to 'logloss'. Explicitly set eval_metric if you'd like to restore the old behavior.\n",
      "[CV] . n_estimators=650, max_depth=3, learning_rate=0.3, total=   0.5s\n",
      "[CV] n_estimators=650, max_depth=6, learning_rate=0.001 ..............\n",
      "[21:32:45] WARNING: C:/Users/Administrator/workspace/xgboost-win64_release_1.5.1/src/learner.cc:1115: Starting in XGBoost 1.3.0, the default evaluation metric used with the objective 'binary:logistic' was changed from 'error' to 'logloss'. Explicitly set eval_metric if you'd like to restore the old behavior.\n",
      "[CV]  n_estimators=650, max_depth=6, learning_rate=0.001, total=   0.9s\n",
      "[CV] n_estimators=650, max_depth=6, learning_rate=0.001 ..............\n",
      "[21:32:46] WARNING: C:/Users/Administrator/workspace/xgboost-win64_release_1.5.1/src/learner.cc:1115: Starting in XGBoost 1.3.0, the default evaluation metric used with the objective 'binary:logistic' was changed from 'error' to 'logloss'. Explicitly set eval_metric if you'd like to restore the old behavior.\n",
      "[CV]  n_estimators=650, max_depth=6, learning_rate=0.001, total=   0.8s\n",
      "[CV] n_estimators=650, max_depth=6, learning_rate=0.001 ..............\n",
      "[21:32:46] WARNING: C:/Users/Administrator/workspace/xgboost-win64_release_1.5.1/src/learner.cc:1115: Starting in XGBoost 1.3.0, the default evaluation metric used with the objective 'binary:logistic' was changed from 'error' to 'logloss'. Explicitly set eval_metric if you'd like to restore the old behavior.\n",
      "[CV]  n_estimators=650, max_depth=6, learning_rate=0.001, total=   1.0s\n",
      "[CV] n_estimators=250, max_depth=4, learning_rate=0.3 ................\n",
      "[21:32:47] WARNING: C:/Users/Administrator/workspace/xgboost-win64_release_1.5.1/src/learner.cc:1115: Starting in XGBoost 1.3.0, the default evaluation metric used with the objective 'binary:logistic' was changed from 'error' to 'logloss'. Explicitly set eval_metric if you'd like to restore the old behavior.\n",
      "[CV] . n_estimators=250, max_depth=4, learning_rate=0.3, total=   0.2s\n",
      "[CV] n_estimators=250, max_depth=4, learning_rate=0.3 ................\n",
      "[21:32:48] WARNING: C:/Users/Administrator/workspace/xgboost-win64_release_1.5.1/src/learner.cc:1115: Starting in XGBoost 1.3.0, the default evaluation metric used with the objective 'binary:logistic' was changed from 'error' to 'logloss'. Explicitly set eval_metric if you'd like to restore the old behavior.\n",
      "[CV] . n_estimators=250, max_depth=4, learning_rate=0.3, total=   0.3s\n",
      "[CV] n_estimators=250, max_depth=4, learning_rate=0.3 ................\n",
      "[21:32:48] WARNING: C:/Users/Administrator/workspace/xgboost-win64_release_1.5.1/src/learner.cc:1115: Starting in XGBoost 1.3.0, the default evaluation metric used with the objective 'binary:logistic' was changed from 'error' to 'logloss'. Explicitly set eval_metric if you'd like to restore the old behavior.\n",
      "[CV] . n_estimators=250, max_depth=4, learning_rate=0.3, total=   0.2s\n",
      "[21:32:48] WARNING: C:/Users/Administrator/workspace/xgboost-win64_release_1.5.1/src/learner.cc:1115: Starting in XGBoost 1.3.0, the default evaluation metric used with the objective 'binary:logistic' was changed from 'error' to 'logloss'. Explicitly set eval_metric if you'd like to restore the old behavior.\n"
     ]
    },
    {
     "name": "stderr",
     "output_type": "stream",
     "text": [
      "[Parallel(n_jobs=1)]: Done 150 out of 150 | elapsed:  1.1min finished\n"
     ]
    },
    {
     "name": "stdout",
     "output_type": "stream",
     "text": [
      "Best Parameters: \n",
      "{'n_estimators': 150, 'max_depth': 6, 'learning_rate': 0.2}\n"
     ]
    }
   ],
   "source": [
    "xgb = xgboost.XGBClassifier()\n",
    "\n",
    "xgb_fine_tune = random_search_xgboost(xgb, X_val, y_val)"
   ]
  },
  {
   "cell_type": "code",
   "execution_count": 105,
   "metadata": {},
   "outputs": [
    {
     "data": {
      "text/plain": [
       "XGBClassifier(base_score=0.5, booster='gbtree', colsample_bylevel=1,\n",
       "              colsample_bynode=1, colsample_bytree=1, enable_categorical=False,\n",
       "              gamma=0, gpu_id=-1, importance_type=None,\n",
       "              interaction_constraints='', learning_rate=0.2, max_delta_step=0,\n",
       "              max_depth=6, min_child_weight=1, missing=nan,\n",
       "              monotone_constraints='()', n_estimators=150, n_jobs=12,\n",
       "              num_parallel_tree=1, predictor='auto', random_state=0,\n",
       "              reg_alpha=0, reg_lambda=1, scale_pos_weight=1, subsample=1,\n",
       "              tree_method='exact', validate_parameters=1, verbosity=None)"
      ]
     },
     "execution_count": 105,
     "metadata": {},
     "output_type": "execute_result"
    }
   ],
   "source": [
    "xgb_fine_tune.best_estimator_"
   ]
  },
  {
   "cell_type": "code",
   "execution_count": 106,
   "metadata": {},
   "outputs": [
    {
     "name": "stderr",
     "output_type": "stream",
     "text": [
      "c:\\Users\\Shankii\\anaconda3\\envs\\gputest\\lib\\site-packages\\xgboost\\sklearn.py:1224: UserWarning: The use of label encoder in XGBClassifier is deprecated and will be removed in a future release. To remove this warning, do the following: 1) Pass option use_label_encoder=False when constructing XGBClassifier object; and 2) Encode your labels (y) as integers starting with 0, i.e. 0, 1, 2, ..., [num_class - 1].\n",
      "  warnings.warn(label_encoder_deprecation_msg, UserWarning)\n"
     ]
    },
    {
     "name": "stdout",
     "output_type": "stream",
     "text": [
      "[21:33:36] WARNING: C:/Users/Administrator/workspace/xgboost-win64_release_1.5.1/src/learner.cc:1115: Starting in XGBoost 1.3.0, the default evaluation metric used with the objective 'binary:logistic' was changed from 'error' to 'logloss'. Explicitly set eval_metric if you'd like to restore the old behavior.\n"
     ]
    }
   ],
   "source": [
    "xgb_fine_tune = xgboost.XGBClassifier(n_estimators = 150,max_depth = 6, learning_rate = 0.2)\n",
    "xgb_fine_tune.fit(X_train, y_train)\n",
    "y_pred_tuned = xgb_fine_tune.predict(X_val)"
   ]
  },
  {
   "cell_type": "code",
   "execution_count": 107,
   "metadata": {},
   "outputs": [
    {
     "name": "stdout",
     "output_type": "stream",
     "text": [
      "Accuracy: 0.6904761904761905\n",
      "Balanced Accuracy: 0.6145833333333334\n",
      "Precision (Micro-averaged): 0.6904761904761905\n",
      "Recall (Micro-averaged): 0.6904761904761905\n",
      "F1 Score (Micro-averaged): 0.6904761904761905\n"
     ]
    }
   ],
   "source": [
    "true_labels = y_val\n",
    "predicted_labels = y_pred_tuned\n",
    "\n",
    "# Calculate the metrics\n",
    "accuracy_logit_train = accuracy_score(true_labels, predicted_labels)\n",
    "balanced_accuracy_logit_train = balanced_accuracy_score(true_labels, predicted_labels)\n",
    "precision_logit_train = precision_score(true_labels, predicted_labels, average='micro')  # Micro-averaged precision\n",
    "recall_logit_train = recall_score(true_labels, predicted_labels, average='micro')  # Micro-averaged recall\n",
    "f1_logit_train = f1_score(true_labels, predicted_labels, average='micro')  # Micro-averaged F1 score\n",
    "\n",
    "# Print the metrics\n",
    "print(f\"Accuracy: {accuracy_logit_train}\")\n",
    "print(f\"Balanced Accuracy: {balanced_accuracy_logit_train}\")\n",
    "print(f\"Precision (Micro-averaged): {precision_logit_train}\")\n",
    "print(f\"Recall (Micro-averaged): {recall_logit_train}\")\n",
    "print(f\"F1 Score (Micro-averaged): {f1_logit_train}\")"
   ]
  },
  {
   "cell_type": "markdown",
   "metadata": {},
   "source": [
    "## on test data"
   ]
  },
  {
   "cell_type": "code",
   "execution_count": 118,
   "metadata": {},
   "outputs": [
    {
     "name": "stdout",
     "output_type": "stream",
     "text": [
      "Accuracy: 0.6689814814814815\n",
      "Balanced Accuracy: 0.6091073467834032\n",
      "Precision (Micro-averaged): 0.6689814814814815\n",
      "Recall (Micro-averaged): 0.6689814814814815\n",
      "F1 Score (Micro-averaged): 0.6689814814814815\n"
     ]
    }
   ],
   "source": [
    "true_labels = y_test\n",
    "predicted_labels = xgb_fine_tune.predict(X_test)\n",
    "\n",
    "# Calculate the metrics\n",
    "accuracy_logit_train = accuracy_score(true_labels, predicted_labels)\n",
    "balanced_accuracy_logit_train = balanced_accuracy_score(true_labels, predicted_labels)\n",
    "precision_logit_train = precision_score(true_labels, predicted_labels, average='micro')  # Micro-averaged precision\n",
    "recall_logit_train = recall_score(true_labels, predicted_labels, average='micro')  # Micro-averaged recall\n",
    "f1_logit_train = f1_score(true_labels, predicted_labels, average='micro')  # Micro-averaged F1 score\n",
    "\n",
    "# Print the metrics\n",
    "print(f\"Accuracy: {accuracy_logit_train}\")\n",
    "print(f\"Balanced Accuracy: {balanced_accuracy_logit_train}\")\n",
    "print(f\"Precision (Micro-averaged): {precision_logit_train}\")\n",
    "print(f\"Recall (Micro-averaged): {recall_logit_train}\")\n",
    "print(f\"F1 Score (Micro-averaged): {f1_logit_train}\")"
   ]
  },
  {
   "cell_type": "code",
   "execution_count": 108,
   "metadata": {},
   "outputs": [],
   "source": [
    "## Catboost"
   ]
  },
  {
   "cell_type": "code",
   "execution_count": 109,
   "metadata": {},
   "outputs": [
    {
     "data": {
      "text/html": [
       "<div>\n",
       "<style scoped>\n",
       "    .dataframe tbody tr th:only-of-type {\n",
       "        vertical-align: middle;\n",
       "    }\n",
       "\n",
       "    .dataframe tbody tr th {\n",
       "        vertical-align: top;\n",
       "    }\n",
       "\n",
       "    .dataframe thead th {\n",
       "        text-align: right;\n",
       "    }\n",
       "</style>\n",
       "<table border=\"1\" class=\"dataframe\">\n",
       "  <thead>\n",
       "    <tr style=\"text-align: right;\">\n",
       "      <th></th>\n",
       "      <th>chrome_stft</th>\n",
       "      <th>spectral_centroid</th>\n",
       "      <th>spectral_bandwidth</th>\n",
       "      <th>spectral_rolloff</th>\n",
       "      <th>rms</th>\n",
       "      <th>zero_crossing_rate</th>\n",
       "      <th>Emotion</th>\n",
       "    </tr>\n",
       "  </thead>\n",
       "  <tbody>\n",
       "    <tr>\n",
       "      <th>chrome_stft</th>\n",
       "      <td>1.000000</td>\n",
       "      <td>0.485154</td>\n",
       "      <td>0.805332</td>\n",
       "      <td>0.645287</td>\n",
       "      <td>-0.274051</td>\n",
       "      <td>-0.387343</td>\n",
       "      <td>-0.059709</td>\n",
       "    </tr>\n",
       "    <tr>\n",
       "      <th>spectral_centroid</th>\n",
       "      <td>0.485154</td>\n",
       "      <td>1.000000</td>\n",
       "      <td>0.683777</td>\n",
       "      <td>0.927070</td>\n",
       "      <td>-0.220827</td>\n",
       "      <td>0.004410</td>\n",
       "      <td>-0.017476</td>\n",
       "    </tr>\n",
       "    <tr>\n",
       "      <th>spectral_bandwidth</th>\n",
       "      <td>0.805332</td>\n",
       "      <td>0.683777</td>\n",
       "      <td>1.000000</td>\n",
       "      <td>0.882915</td>\n",
       "      <td>-0.211020</td>\n",
       "      <td>-0.118694</td>\n",
       "      <td>-0.032221</td>\n",
       "    </tr>\n",
       "    <tr>\n",
       "      <th>spectral_rolloff</th>\n",
       "      <td>0.645287</td>\n",
       "      <td>0.927070</td>\n",
       "      <td>0.882915</td>\n",
       "      <td>1.000000</td>\n",
       "      <td>-0.243568</td>\n",
       "      <td>-0.056604</td>\n",
       "      <td>-0.008328</td>\n",
       "    </tr>\n",
       "    <tr>\n",
       "      <th>rms</th>\n",
       "      <td>-0.274051</td>\n",
       "      <td>-0.220827</td>\n",
       "      <td>-0.211020</td>\n",
       "      <td>-0.243568</td>\n",
       "      <td>1.000000</td>\n",
       "      <td>0.430388</td>\n",
       "      <td>0.212626</td>\n",
       "    </tr>\n",
       "    <tr>\n",
       "      <th>zero_crossing_rate</th>\n",
       "      <td>-0.387343</td>\n",
       "      <td>0.004410</td>\n",
       "      <td>-0.118694</td>\n",
       "      <td>-0.056604</td>\n",
       "      <td>0.430388</td>\n",
       "      <td>1.000000</td>\n",
       "      <td>0.219656</td>\n",
       "    </tr>\n",
       "    <tr>\n",
       "      <th>Emotion</th>\n",
       "      <td>-0.059709</td>\n",
       "      <td>-0.017476</td>\n",
       "      <td>-0.032221</td>\n",
       "      <td>-0.008328</td>\n",
       "      <td>0.212626</td>\n",
       "      <td>0.219656</td>\n",
       "      <td>1.000000</td>\n",
       "    </tr>\n",
       "  </tbody>\n",
       "</table>\n",
       "</div>"
      ],
      "text/plain": [
       "                    chrome_stft  spectral_centroid  spectral_bandwidth  \\\n",
       "chrome_stft            1.000000           0.485154            0.805332   \n",
       "spectral_centroid      0.485154           1.000000            0.683777   \n",
       "spectral_bandwidth     0.805332           0.683777            1.000000   \n",
       "spectral_rolloff       0.645287           0.927070            0.882915   \n",
       "rms                   -0.274051          -0.220827           -0.211020   \n",
       "zero_crossing_rate    -0.387343           0.004410           -0.118694   \n",
       "Emotion               -0.059709          -0.017476           -0.032221   \n",
       "\n",
       "                    spectral_rolloff       rms  zero_crossing_rate   Emotion  \n",
       "chrome_stft                 0.645287 -0.274051           -0.387343 -0.059709  \n",
       "spectral_centroid           0.927070 -0.220827            0.004410 -0.017476  \n",
       "spectral_bandwidth          0.882915 -0.211020           -0.118694 -0.032221  \n",
       "spectral_rolloff            1.000000 -0.243568           -0.056604 -0.008328  \n",
       "rms                        -0.243568  1.000000            0.430388  0.212626  \n",
       "zero_crossing_rate         -0.056604  0.430388            1.000000  0.219656  \n",
       "Emotion                    -0.008328  0.212626            0.219656  1.000000  "
      ]
     },
     "execution_count": 109,
     "metadata": {},
     "output_type": "execute_result"
    }
   ],
   "source": [
    "data.corr()"
   ]
  },
  {
   "cell_type": "code",
   "execution_count": 113,
   "metadata": {},
   "outputs": [],
   "source": [
    "import catboost\n",
    "clf = catboost.CatBoostClassifier()\n",
    "clf.fit(X_train, y_train, verbose = False)\n",
    "y_pred_tuned_catboost = clf.predict(X_val)\n"
   ]
  },
  {
   "cell_type": "code",
   "execution_count": 114,
   "metadata": {},
   "outputs": [
    {
     "name": "stdout",
     "output_type": "stream",
     "text": [
      "Accuracy: 0.7043650793650794\n",
      "Balanced Accuracy: 0.6145833333333333\n",
      "Precision (Micro-averaged): 0.7043650793650794\n",
      "Recall (Micro-averaged): 0.7043650793650794\n",
      "F1 Score (Micro-averaged): 0.7043650793650794\n"
     ]
    }
   ],
   "source": [
    "true_labels = y_val\n",
    "predicted_labels = y_pred_tuned_catboost\n",
    "\n",
    "# Calculate the metrics\n",
    "accuracy_logit_train = accuracy_score(true_labels, predicted_labels)\n",
    "balanced_accuracy_logit_train = balanced_accuracy_score(true_labels, predicted_labels)\n",
    "precision_logit_train = precision_score(true_labels, predicted_labels, average='micro')  # Micro-averaged precision\n",
    "recall_logit_train = recall_score(true_labels, predicted_labels, average='micro')  # Micro-averaged recall\n",
    "f1_logit_train = f1_score(true_labels, predicted_labels, average='micro')  # Micro-averaged F1 score\n",
    "\n",
    "# Print the metrics\n",
    "print(f\"Accuracy: {accuracy_logit_train}\")\n",
    "print(f\"Balanced Accuracy: {balanced_accuracy_logit_train}\")\n",
    "print(f\"Precision (Micro-averaged): {precision_logit_train}\")\n",
    "print(f\"Recall (Micro-averaged): {recall_logit_train}\")\n",
    "print(f\"F1 Score (Micro-averaged): {f1_logit_train}\")"
   ]
  },
  {
   "cell_type": "markdown",
   "metadata": {},
   "source": [
    "## on test data"
   ]
  },
  {
   "cell_type": "code",
   "execution_count": 115,
   "metadata": {},
   "outputs": [
    {
     "name": "stdout",
     "output_type": "stream",
     "text": [
      "Accuracy: 0.6990740740740741\n",
      "Balanced Accuracy: 0.627141225732775\n",
      "Precision (Micro-averaged): 0.6990740740740741\n",
      "Recall (Micro-averaged): 0.6990740740740741\n",
      "F1 Score (Micro-averaged): 0.6990740740740741\n"
     ]
    }
   ],
   "source": [
    "true_labels = y_test\n",
    "predicted_labels = clf.predict(X_test)\n",
    "\n",
    "# Calculate the metrics\n",
    "accuracy_logit_train = accuracy_score(true_labels, predicted_labels)\n",
    "balanced_accuracy_logit_train = balanced_accuracy_score(true_labels, predicted_labels)\n",
    "precision_logit_train = precision_score(true_labels, predicted_labels, average='micro')  # Micro-averaged precision\n",
    "recall_logit_train = recall_score(true_labels, predicted_labels, average='micro')  # Micro-averaged recall\n",
    "f1_logit_train = f1_score(true_labels, predicted_labels, average='micro')  # Micro-averaged F1 score\n",
    "\n",
    "# Print the metrics\n",
    "print(f\"Accuracy: {accuracy_logit_train}\")\n",
    "print(f\"Balanced Accuracy: {balanced_accuracy_logit_train}\")\n",
    "print(f\"Precision (Micro-averaged): {precision_logit_train}\")\n",
    "print(f\"Recall (Micro-averaged): {recall_logit_train}\")\n",
    "print(f\"F1 Score (Micro-averaged): {f1_logit_train}\")"
   ]
  },
  {
   "cell_type": "markdown",
   "metadata": {},
   "source": [
    "## tuning Catboost"
   ]
  },
  {
   "cell_type": "code",
   "execution_count": 116,
   "metadata": {},
   "outputs": [],
   "source": [
    "\n",
    "params = {'iterations': [100,200,300,400,500],\n",
    "          'depth': [4, 5, 6,7,8,9],\n",
    "          'loss_function': ['Logloss'],\n",
    "          'leaf_estimation_iterations': [10],\n",
    "           'eval_metric': ['Logloss'],\n",
    "          'random_seed': [42],\n",
    "         'learning_rate':[0.05,0.08,0.1,0.3]\n",
    "         };"
   ]
  },
  {
   "cell_type": "code",
   "execution_count": 120,
   "metadata": {},
   "outputs": [
    {
     "data": {
      "text/plain": [
       "GridSearchCV(cv=3,\n",
       "             estimator=<catboost.core.CatBoostClassifier object at 0x0000025B833A3710>,\n",
       "             param_grid={'depth': [4, 5, 6, 7, 8, 9],\n",
       "                         'eval_metric': ['Logloss'],\n",
       "                         'iterations': [100, 200, 300, 400, 500],\n",
       "                         'leaf_estimation_iterations': [10],\n",
       "                         'learning_rate': [0.05, 0.08, 0.1, 0.3],\n",
       "                         'loss_function': ['Logloss'], 'random_seed': [42]})"
      ]
     },
     "execution_count": 120,
     "metadata": {},
     "output_type": "execute_result"
    }
   ],
   "source": [
    "\n",
    "clf_grid_full = GridSearchCV(estimator=clf, param_grid=params, cv=3)\n",
    "clf_grid_full.fit(X_train, y_train, verbose = False)\n",
    "clf_grid_full"
   ]
  },
  {
   "cell_type": "code",
   "execution_count": 122,
   "metadata": {},
   "outputs": [
    {
     "data": {
      "text/plain": [
       "{'depth': 8,\n",
       " 'eval_metric': 'Logloss',\n",
       " 'iterations': 100,\n",
       " 'leaf_estimation_iterations': 10,\n",
       " 'learning_rate': 0.05,\n",
       " 'loss_function': 'Logloss',\n",
       " 'random_seed': 42}"
      ]
     },
     "execution_count": 122,
     "metadata": {},
     "output_type": "execute_result"
    }
   ],
   "source": [
    "clf_grid_full.best_params_"
   ]
  },
  {
   "cell_type": "code",
   "execution_count": 124,
   "metadata": {},
   "outputs": [],
   "source": [
    "clf = catboost.CatBoostClassifier(depth = 8, n_estimators=100, leaf_estimation_iterations=10, learning_rate = 0.05, loss_function ='Logloss')\n",
    "clf.fit(X_train,y_train, verbose= False)\n",
    "y_pred_catboost_tuned = clf.predict(X_val)"
   ]
  },
  {
   "cell_type": "code",
   "execution_count": 125,
   "metadata": {},
   "outputs": [
    {
     "name": "stdout",
     "output_type": "stream",
     "text": [
      "Accuracy: 0.7043650793650794\n",
      "Balanced Accuracy: 0.6205357142857143\n",
      "Precision (Micro-averaged): 0.7043650793650794\n",
      "Recall (Micro-averaged): 0.7043650793650794\n",
      "F1 Score (Micro-averaged): 0.7043650793650794\n"
     ]
    }
   ],
   "source": [
    "true_labels = y_val\n",
    "predicted_labels = y_pred_catboost_tuned\n",
    "\n",
    "# Calculate the metrics\n",
    "accuracy_logit_train = accuracy_score(true_labels, predicted_labels)\n",
    "balanced_accuracy_logit_train = balanced_accuracy_score(true_labels, predicted_labels)\n",
    "precision_logit_train = precision_score(true_labels, predicted_labels, average='micro')  # Micro-averaged precision\n",
    "recall_logit_train = recall_score(true_labels, predicted_labels, average='micro')  # Micro-averaged recall\n",
    "f1_logit_train = f1_score(true_labels, predicted_labels, average='micro')  # Micro-averaged F1 score\n",
    "\n",
    "# Print the metrics\n",
    "print(f\"Accuracy: {accuracy_logit_train}\")\n",
    "print(f\"Balanced Accuracy: {balanced_accuracy_logit_train}\")\n",
    "print(f\"Precision (Micro-averaged): {precision_logit_train}\")\n",
    "print(f\"Recall (Micro-averaged): {recall_logit_train}\")\n",
    "print(f\"F1 Score (Micro-averaged): {f1_logit_train}\")"
   ]
  },
  {
   "cell_type": "markdown",
   "metadata": {},
   "source": [
    "## on test data"
   ]
  },
  {
   "cell_type": "code",
   "execution_count": 126,
   "metadata": {},
   "outputs": [
    {
     "name": "stdout",
     "output_type": "stream",
     "text": [
      "Accuracy: 0.7037037037037037\n",
      "Balanced Accuracy: 0.6322801674914351\n",
      "Precision (Micro-averaged): 0.7037037037037037\n",
      "Recall (Micro-averaged): 0.7037037037037037\n",
      "F1 Score (Micro-averaged): 0.7037037037037037\n"
     ]
    }
   ],
   "source": [
    "true_labels = y_test\n",
    "predicted_labels = clf.predict(X_test)\n",
    "\n",
    "# Calculate the metrics\n",
    "accuracy_logit_train = accuracy_score(true_labels, predicted_labels)\n",
    "balanced_accuracy_logit_train = balanced_accuracy_score(true_labels, predicted_labels)\n",
    "precision_logit_train = precision_score(true_labels, predicted_labels, average='micro')  # Micro-averaged precision\n",
    "recall_logit_train = recall_score(true_labels, predicted_labels, average='micro')  # Micro-averaged recall\n",
    "f1_logit_train = f1_score(true_labels, predicted_labels, average='micro')  # Micro-averaged F1 score\n",
    "\n",
    "# Print the metrics\n",
    "print(f\"Accuracy: {accuracy_logit_train}\")\n",
    "print(f\"Balanced Accuracy: {balanced_accuracy_logit_train}\")\n",
    "print(f\"Precision (Micro-averaged): {precision_logit_train}\")\n",
    "print(f\"Recall (Micro-averaged): {recall_logit_train}\")\n",
    "print(f\"F1 Score (Micro-averaged): {f1_logit_train}\")"
   ]
  },
  {
   "cell_type": "code",
   "execution_count": null,
   "metadata": {},
   "outputs": [],
   "source": []
  }
 ],
 "metadata": {
  "kernelspec": {
   "display_name": "gputest",
   "language": "python",
   "name": "python3"
  },
  "language_info": {
   "codemirror_mode": {
    "name": "ipython",
    "version": 3
   },
   "file_extension": ".py",
   "mimetype": "text/x-python",
   "name": "python",
   "nbconvert_exporter": "python",
   "pygments_lexer": "ipython3",
   "version": "3.6.13"
  }
 },
 "nbformat": 4,
 "nbformat_minor": 2
}
