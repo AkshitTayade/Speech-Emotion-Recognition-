{
 "cells": [
  {
   "cell_type": "code",
   "execution_count": 1,
   "id": "9558336b",
   "metadata": {},
   "outputs": [],
   "source": [
    "import librosa\n",
    "from librosa import feature\n",
    "import numpy as np"
   ]
  },
  {
   "cell_type": "code",
   "execution_count": 2,
   "id": "28205242",
   "metadata": {},
   "outputs": [],
   "source": [
    "fn_list_i = [\n",
    " feature.chroma_stft,\n",
    " feature.spectral_centroid,\n",
    " feature.spectral_bandwidth,\n",
    " feature.spectral_rolloff\n",
    "]\n",
    " \n",
    "fn_list_ii = [\n",
    " feature.rms,\n",
    " feature.zero_crossing_rate\n",
    "]\n",
    "\n",
    "def get_feature_vector(y,sr): \n",
    "   feat_vect_i = [ np.mean(funct(y=y, sr=sr)) for funct in fn_list_i]\n",
    "   feat_vect_ii = [ np.mean(funct(y=y)) for funct in fn_list_ii] \n",
    "   feature_vector = feat_vect_i + feat_vect_ii \n",
    "   return feature_vector"
   ]
  },
  {
   "cell_type": "code",
   "execution_count": 3,
   "id": "b4248107",
   "metadata": {},
   "outputs": [],
   "source": [
    "y , sr = librosa.load('03-01-01-01-01-02-01.wav',sr=None)\n",
    "feature_vector = get_feature_vector(y, sr)"
   ]
  },
  {
   "cell_type": "code",
   "execution_count": 4,
   "id": "8b93b93d",
   "metadata": {},
   "outputs": [
    {
     "name": "stdout",
     "output_type": "stream",
     "text": [
      "[0.629568, 7135.571471210389, 5653.771579321926, 13191.64337060703, 0.0022580326, 0.05290441543530351]\n"
     ]
    }
   ],
   "source": [
    "print(feature_vector)"
   ]
  },
  {
   "cell_type": "code",
   "execution_count": 5,
   "id": "3420cb5e",
   "metadata": {},
   "outputs": [],
   "source": [
    "feature_vector.append('Hi')"
   ]
  },
  {
   "cell_type": "code",
   "execution_count": 6,
   "id": "a385628a",
   "metadata": {},
   "outputs": [
    {
     "data": {
      "text/plain": [
       "[0.629568,\n",
       " 7135.571471210389,\n",
       " 5653.771579321926,\n",
       " 13191.64337060703,\n",
       " 0.0022580326,\n",
       " 0.05290441543530351,\n",
       " 'Hi']"
      ]
     },
     "execution_count": 6,
     "metadata": {},
     "output_type": "execute_result"
    }
   ],
   "source": [
    "feature_vector"
   ]
  },
  {
   "cell_type": "code",
   "execution_count": null,
   "id": "64cee2d0",
   "metadata": {},
   "outputs": [],
   "source": []
  }
 ],
 "metadata": {
  "kernelspec": {
   "display_name": "akshit_venv",
   "language": "python",
   "name": "akshit_venv"
  },
  "language_info": {
   "codemirror_mode": {
    "name": "ipython",
    "version": 3
   },
   "file_extension": ".py",
   "mimetype": "text/x-python",
   "name": "python",
   "nbconvert_exporter": "python",
   "pygments_lexer": "ipython3",
   "version": "3.8.13"
  }
 },
 "nbformat": 4,
 "nbformat_minor": 5
}
